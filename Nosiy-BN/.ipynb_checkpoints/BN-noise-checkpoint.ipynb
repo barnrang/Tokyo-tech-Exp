{
 "cells": [
  {
   "cell_type": "code",
   "execution_count": 24,
   "metadata": {
    "collapsed": true
   },
   "outputs": [],
   "source": [
    "import tensorflow as tf\n",
    "from tensorflow import keras\n",
    "import numpy as np\n",
    "import matplotlib.pyplot as plt\n",
    "\n",
    "%matplotlib inline"
   ]
  },
  {
   "cell_type": "code",
   "execution_count": 15,
   "metadata": {
    "collapsed": true
   },
   "outputs": [],
   "source": [
    "class NoisyBatchNormalization(tf.keras.layers.BatchNormalization):\n",
    "    \n",
    "    def __init__(self, *args, **kwargs):\n",
    "        tf.keras.layers.BatchNormalization.__init__(self, *args, **kwargs)\n",
    "    \n",
    "    def call(self, inputs, training, alpha, take_log=False):\n",
    "        input_shape = K.int_shape(inputs)\n",
    "        # Prepare broadcasting shape.\n",
    "        ndim = len(input_shape)\n",
    "        reduction_axes = list(range(len(input_shape)))\n",
    "        del reduction_axes[self.axis]\n",
    "        \n",
    "        mean, var = tf.nn.moments(inputs,axes=reduction_axes)\n",
    "        \n",
    "        def broadcast_mean_var(x, ndim):\n",
    "            if ndim == 2:\n",
    "                return tf.reshape(x, shape=[1,-1])\n",
    "            elif ndim == 4:\n",
    "                return tf.reshape(x, shape=[1,1,1,-1])\n",
    "            else:\n",
    "                raise NotImplementedError\n",
    "                \n",
    "        if training:\n",
    "            mean = broadcast_mean_var(mean, ndim)\n",
    "            var = broadcast_mean_var(var, ndim)\n",
    "            self.moving_mean = momentum * self.moving_mean + (1 - momentum) * mean\n",
    "            self.var = momentum * self.moving_var + (1 - momentum) * var\n",
    "        else:\n",
    "            mean, var = self.moving_mean, self.moving_var\n",
    "        \n",
    "        norm = (inputs - mean) / tf.sqrt(var + self.epsilon)\n",
    "        noise = tf.random.normal(input_shape)\n",
    "        norm_noise = norm + alpha * noise\n",
    "        \n",
    "        \n",
    "        \n",
    "#         self.add_update([K.moving_average_update(self.moving_mean,\n",
    "#                                                  mean,\n",
    "#                                                  self.momentum),\n",
    "#                          K.moving_average_update(self.moving_variance,\n",
    "#                                                  var,\n",
    "#                                                  self.momentum)],\n",
    "#                         inputs)\n",
    "        \n",
    "        return self.gamma * norm_noise + self.beta\n",
    "                "
   ]
  },
  {
   "cell_type": "code",
   "execution_count": 20,
   "metadata": {
    "collapsed": true
   },
   "outputs": [],
   "source": [
    "with tf.GradientTape() as tape:\n",
    "    a = tf.constant([1,2,3])\n",
    "    b = tf.Variable([4,5,6])\n",
    "    c = a + b ** 2\n",
    "    "
   ]
  },
  {
   "cell_type": "code",
   "execution_count": 21,
   "metadata": {},
   "outputs": [
    {
     "name": "stdout",
     "output_type": "stream",
     "text": [
      "[None]\n"
     ]
    }
   ],
   "source": [
    "print(tape.gradient(c, [b]))"
   ]
  },
  {
   "cell_type": "code",
   "execution_count": 25,
   "metadata": {
    "collapsed": true
   },
   "outputs": [],
   "source": [
    "fashion_mnist = keras.datasets.fashion_mnist\n",
    "\n",
    "(train_images, train_labels), (test_images, test_labels) = fashion_mnist.load_data()"
   ]
  },
  {
   "cell_type": "code",
   "execution_count": null,
   "metadata": {
    "collapsed": true
   },
   "outputs": [],
   "source": [
    "tf.keras.layers.BatchNormalization()"
   ]
  }
 ],
 "metadata": {
  "kernelspec": {
   "display_name": "Python [default]",
   "language": "python",
   "name": "python3"
  },
  "language_info": {
   "codemirror_mode": {
    "name": "ipython",
    "version": 3
   },
   "file_extension": ".py",
   "mimetype": "text/x-python",
   "name": "python",
   "nbconvert_exporter": "python",
   "pygments_lexer": "ipython3",
   "version": "3.5.3"
  }
 },
 "nbformat": 4,
 "nbformat_minor": 2
}
