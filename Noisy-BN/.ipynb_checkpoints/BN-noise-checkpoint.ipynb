{
 "cells": [
  {
   "cell_type": "code",
   "execution_count": 1,
   "metadata": {},
   "outputs": [],
   "source": [
    "import tensorflow as tf\n",
    "from tensorflow import keras\n",
    "import numpy as np\n",
    "import matplotlib.pyplot as plt\n",
    "from noisy_bn import NoisyBatchNormalization\n",
    "\n",
    "%matplotlib inline\n",
    "%load_ext autoreload\n",
    "%autoreload 2"
   ]
  },
  {
   "cell_type": "code",
   "execution_count": 2,
   "metadata": {
    "collapsed": true
   },
   "outputs": [],
   "source": [
    "fashion_mnist = keras.datasets.fashion_mnist\n",
    "\n",
    "(train_images, train_labels), (test_images, test_labels) = fashion_mnist.load_data()"
   ]
  },
  {
   "cell_type": "code",
   "execution_count": 3,
   "metadata": {},
   "outputs": [
    {
     "data": {
      "text/plain": [
       "(60000, 28, 28)"
      ]
     },
     "execution_count": 3,
     "metadata": {},
     "output_type": "execute_result"
    }
   ],
   "source": [
    "train_images.shape"
   ]
  },
  {
   "cell_type": "code",
   "execution_count": 6,
   "metadata": {
    "collapsed": true
   },
   "outputs": [],
   "source": [
    "# model 1\n",
    "tf.keras.backend.clear_session()\n",
    "input_node = keras.layers.Input((28,28))\n",
    "expand = keras.layers.Lambda(lambda x: tf.expand_dims(tf.cast(x, tf.float32) / 255., axis=-1))(input_node)\n",
    "\n",
    "conv1 = keras.layers.Conv2D(32, (3,3))(expand)\n",
    "batch1 = keras.layers.BatchNormalization()(conv1)\n",
    "pool1 = keras.layers.MaxPool2D((2,2))(batch1)\n",
    "\n",
    "conv2 = keras.layers.Conv2D(32, (3,3))(pool1)\n",
    "batch2 = keras.layers.BatchNormalization()(conv2)\n",
    "pool2 = keras.layers.MaxPool2D((2,2))(batch2)\n",
    "\n",
    "conv3 = keras.layers.Conv2D(32, (3,3))(pool2)\n",
    "batch3 = keras.layers.BatchNormalization()(conv3)\n",
    "pool3 = keras.layers.MaxPool2D((2,2))(batch3)\n",
    "\n",
    "av1 = keras.layers.GlobalAveragePooling2D()(pool3)\n",
    "\n",
    "h1 = keras.layers.Dense(512)(av1)\n",
    "batch4 = keras.layers.BatchNormalization()(h1)\n",
    "relu1 = keras.layers.Activation('relu')(batch4)\n",
    "\n",
    "output_h = tf.keras.layers.Dense(10)(relu1)\n",
    "output = tf.keras.layers.Activation('softmax')(output_h)\n",
    "\n",
    "model1 = keras.Model(input_node, output)"
   ]
  },
  {
   "cell_type": "code",
   "execution_count": 7,
   "metadata": {},
   "outputs": [
    {
     "name": "stdout",
     "output_type": "stream",
     "text": [
      "Train on 60000 samples, validate on 10000 samples\n",
      "Epoch 1/5\n",
      "60000/60000 [==============================] - 45s 748us/sample - loss: 0.5197 - accuracy: 0.8131 - val_loss: 0.5505 - val_accuracy: 0.8063\n",
      "Epoch 2/5\n",
      "60000/60000 [==============================] - 21s 349us/sample - loss: 0.3945 - accuracy: 0.8566 - val_loss: 0.4005 - val_accuracy: 0.8489\n",
      "Epoch 3/5\n",
      "60000/60000 [==============================] - 21s 356us/sample - loss: 0.3484 - accuracy: 0.8726 - val_loss: 0.4003 - val_accuracy: 0.8606\n",
      "Epoch 4/5\n",
      "60000/60000 [==============================] - 21s 350us/sample - loss: 0.3233 - accuracy: 0.8817 - val_loss: 0.4178 - val_accuracy: 0.8492\n",
      "Epoch 5/5\n",
      "60000/60000 [==============================] - 22s 372us/sample - loss: 0.3062 - accuracy: 0.8881 - val_loss: 0.3579 - val_accuracy: 0.8722\n"
     ]
    },
    {
     "data": {
      "text/plain": [
       "<tensorflow.python.keras.callbacks.History at 0x23eb647c710>"
      ]
     },
     "execution_count": 7,
     "metadata": {},
     "output_type": "execute_result"
    }
   ],
   "source": [
    "model1.compile(optimizer='adam', loss='categorical_crossentropy', metrics=['accuracy'])\n",
    "\n",
    "from tensorflow.keras.utils import to_categorical\n",
    "model1.fit(train_images, to_categorical(train_labels), batch_size=32, epochs=5,validation_data=(test_images, to_categorical(test_labels)), verbose=1)"
   ]
  },
  {
   "cell_type": "code",
   "execution_count": 21,
   "metadata": {
    "collapsed": true
   },
   "outputs": [],
   "source": [
    "test_pre = keras.layers.Lambda(lambda x: tf.expand_dims(tf.cast(x, tf.float32) / 255., axis=-1))\n",
    "test_conv = keras.layers.Conv2D(32, (3,3))"
   ]
  },
  {
   "cell_type": "code",
   "execution_count": 23,
   "metadata": {
    "collapsed": true
   },
   "outputs": [],
   "source": [
    "x = train_images[:3]\n",
    "mid = test_pre(x)\n",
    "out = test_conv(mid)"
   ]
  },
  {
   "cell_type": "code",
   "execution_count": 44,
   "metadata": {
    "collapsed": true
   },
   "outputs": [],
   "source": [
    "# model 2\n",
    "tf.keras.backend.clear_session()\n",
    "# input_node = keras.layers.Input((28,28))\n",
    "# expand = keras.layers.Lambda(lambda x: tf.expand_dims(tf.cast(x, tf.float32) / 255., axis=-1))(input_node)\n",
    "\n",
    "# conv1 = keras.layers.Conv2D(32, (3,3))(expand)\n",
    "# batch1 = NoisyBatchNormalization(0)(conv1)\n",
    "# pool1 = keras.layers.MaxPool2D((2,2))(batch1)\n",
    "\n",
    "# conv2 = keras.layers.Conv2D(32, (3,3))(pool1)\n",
    "# batch2 = NoisyBatchNormalization(0)(conv2)\n",
    "# pool2 = keras.layers.MaxPool2D((2,2))(batch2)\n",
    "\n",
    "# conv3 = keras.layers.Conv2D(32, (3,3))(pool2)\n",
    "# batch3 = NoisyBatchNormalization(0)(conv3)\n",
    "# pool3 = keras.layers.MaxPool2D((2,2))(batch3)\n",
    "\n",
    "# av1 = keras.layers.GlobalAveragePooling2D()(pool3)\n",
    "\n",
    "# h1 = keras.layers.Dense(512)(av1)\n",
    "# batch4 = NoisyBatchNormalization(0)(h1)\n",
    "# relu1 = keras.layers.Activation('relu')(batch4)\n",
    "\n",
    "# output_h = tf.keras.layers.Dense(10, act)(relu1)\n",
    "# output = tf.keras.layers.Activation('softmax')(output_h)\n",
    "\n",
    "\n",
    "class PreProcess(keras.layers.Layer):\n",
    "    def call(self, inputs):\n",
    "        return tf.expand_dims(tf.cast(inputs, tf.float32) / 255., axis=-1)\n",
    "\n",
    "class MyModel(keras.Model):\n",
    "    def __init__(self):\n",
    "        super(MyModel, self).__init__()\n",
    "        \n",
    "        self.pre_pro = PreProcess()\n",
    "        \n",
    "        self.conv1 = keras.layers.Conv2D(32, (3,3),data_format='channels_last')\n",
    "        self.conv2 = keras.layers.Conv2D(32, (3,3))\n",
    "        self.conv3 = keras.layers.Conv2D(32, (3,3))\n",
    "        \n",
    "        self.batch1 = NoisyBatchNormalization(0.1)\n",
    "        self.batch2 = NoisyBatchNormalization(0.1)\n",
    "        self.batch3 = NoisyBatchNormalization(0.1)\n",
    "        self.batch4 = NoisyBatchNormalization(0.1)\n",
    "        \n",
    "        self.pool = keras.layers.MaxPool2D((2,2))\n",
    "        \n",
    "        self.globalav = keras.layers.GlobalAveragePooling2D()\n",
    "        \n",
    "        self.dense1 = keras.layers.Dense(512)\n",
    "        self.dense2 = keras.layers.Dense(10, activation='softmax')\n",
    "        self.relu1 = keras.layers.Activation('relu')\n",
    "        \n",
    "    def call(self, inputs, training=None):\n",
    "        \n",
    "        pro_inp = self.pre_pro(inputs)\n",
    "        \n",
    "        print(pro_inp)\n",
    "        \n",
    "        conv1 = self.conv1(pro_inp)\n",
    "        batch1 = self.batch1(conv1, training)\n",
    "        pool1 = self.pool(batch1)\n",
    "        \n",
    "        conv2 = self.conv2(pool1)\n",
    "        batch2 = self.batch2(conv2, training)\n",
    "        pool2 = self.pool(batch2)\n",
    "\n",
    "        \n",
    "        conv3 = self.conv3(pool2)\n",
    "        batch3 = self.batch3(conv3, training)\n",
    "        pool3 = self.pool(batch3)\n",
    "        \n",
    "        av = self.globalav(pool3)\n",
    "        \n",
    "        dense1 = self.dense1(av)\n",
    "        batch4 = self.batch4(dense1, training)\n",
    "        relu1 = self.relu1(batch4)\n",
    "        \n",
    "        pred = self.dense2(relu1)\n",
    "        \n",
    "        return pred\n",
    "        \n"
   ]
  },
  {
   "cell_type": "code",
   "execution_count": 45,
   "metadata": {
    "collapsed": true
   },
   "outputs": [],
   "source": [
    "model = MyModel()"
   ]
  },
  {
   "cell_type": "code",
   "execution_count": 46,
   "metadata": {},
   "outputs": [
    {
     "name": "stdout",
     "output_type": "stream",
     "text": [
      "Tensor(\"pre_process_12/ExpandDims:0\", shape=(None, 28, 28, 1), dtype=float32)\n",
      "Tensor(\"keras_learning_phase_14:0\", shape=(), dtype=bool)\n",
      "[0, 1, 2, 3] 3\n",
      "Tensor(\"keras_learning_phase_14:0\", shape=(), dtype=bool)\n",
      "[0, 1, 2, 3] 3\n",
      "Tensor(\"keras_learning_phase_14:0\", shape=(), dtype=bool)\n",
      "[0, 1, 2, 3] 3\n",
      "Tensor(\"keras_learning_phase_14:0\", shape=(), dtype=bool)\n",
      "[0, 1] 1\n",
      "Train on 60000 samples, validate on 10000 samples\n",
      "Epoch 1/5\n",
      "60000/60000 [==============================] - 33s 558us/sample - loss: 0.5345 - accuracy: 0.8064 - val_loss: 0.4717 - val_accuracy: 0.8246\n",
      "Epoch 2/5\n",
      "60000/60000 [==============================] - 35s 577us/sample - loss: 0.4091 - accuracy: 0.8515 - val_loss: 0.4298 - val_accuracy: 0.8478\n",
      "Epoch 3/5\n",
      "60000/60000 [==============================] - 33s 553us/sample - loss: 0.3689 - accuracy: 0.8653 - val_loss: 0.3904 - val_accuracy: 0.8599\n",
      "Epoch 4/5\n",
      "60000/60000 [==============================] - 33s 545us/sample - loss: 0.3449 - accuracy: 0.8742 - val_loss: 0.3945 - val_accuracy: 0.8553\n",
      "Epoch 5/5\n",
      "60000/60000 [==============================] - 33s 547us/sample - loss: 0.3282 - accuracy: 0.8788 - val_loss: 0.3829 - val_accuracy: 0.8606\n"
     ]
    },
    {
     "data": {
      "text/plain": [
       "<tensorflow.python.keras.callbacks.History at 0x23fd13f0390>"
      ]
     },
     "execution_count": 46,
     "metadata": {},
     "output_type": "execute_result"
    }
   ],
   "source": [
    "model.compile(optimizer='adam', loss='categorical_crossentropy', metrics=['accuracy'])\n",
    "\n",
    "from tensorflow.keras.utils import to_categorical\n",
    "model.fit(train_images, to_categorical(train_labels), batch_size=32, epochs=5,validation_data=(test_images, to_categorical(test_labels)), verbose=1)"
   ]
  },
  {
   "cell_type": "code",
   "execution_count": null,
   "metadata": {
    "collapsed": true
   },
   "outputs": [],
   "source": [
    "tf.keras.layers.BatchNormalization()"
   ]
  },
  {
   "cell_type": "code",
   "execution_count": 16,
   "metadata": {
    "collapsed": true
   },
   "outputs": [],
   "source": [
    "class TestLayer(tf.keras.layers.Layer):\n",
    "    def __init__(self, units, input_dim):\n",
    "        super(TestLayer, self).__init__()\n",
    "        self.w = self.add_weight(shape=(input_dim, units),\n",
    "                             initializer=tf.zeros_initializer,\n",
    "                             trainable=True)\n",
    "        \n",
    "        \n",
    "    def call(self, inputs, training=None):\n",
    "        self.w = self.w + 1\n",
    "        return inputs"
   ]
  },
  {
   "cell_type": "code",
   "execution_count": 17,
   "metadata": {
    "collapsed": true
   },
   "outputs": [],
   "source": [
    "test_layer = TestLayer(32, 32)"
   ]
  },
  {
   "cell_type": "code",
   "execution_count": 18,
   "metadata": {
    "collapsed": true
   },
   "outputs": [],
   "source": [
    "input_const = tf.constant([1,2,3])\n",
    "output_const = test_layer(input_const)"
   ]
  },
  {
   "cell_type": "code",
   "execution_count": 19,
   "metadata": {},
   "outputs": [
    {
     "data": {
      "text/plain": [
       "<tf.Tensor: id=26, shape=(32, 32), dtype=float32, numpy=\n",
       "array([[1., 1., 1., ..., 1., 1., 1.],\n",
       "       [1., 1., 1., ..., 1., 1., 1.],\n",
       "       [1., 1., 1., ..., 1., 1., 1.],\n",
       "       ...,\n",
       "       [1., 1., 1., ..., 1., 1., 1.],\n",
       "       [1., 1., 1., ..., 1., 1., 1.],\n",
       "       [1., 1., 1., ..., 1., 1., 1.]], dtype=float32)>"
      ]
     },
     "execution_count": 19,
     "metadata": {},
     "output_type": "execute_result"
    }
   ],
   "source": [
    "test_layer.w"
   ]
  },
  {
   "cell_type": "code",
   "execution_count": null,
   "metadata": {
    "collapsed": true
   },
   "outputs": [],
   "source": []
  }
 ],
 "metadata": {
  "kernelspec": {
   "display_name": "Python [default]",
   "language": "python",
   "name": "python3"
  },
  "language_info": {
   "codemirror_mode": {
    "name": "ipython",
    "version": 3
   },
   "file_extension": ".py",
   "mimetype": "text/x-python",
   "name": "python",
   "nbconvert_exporter": "python",
   "pygments_lexer": "ipython3",
   "version": "3.5.3"
  }
 },
 "nbformat": 4,
 "nbformat_minor": 2
}
