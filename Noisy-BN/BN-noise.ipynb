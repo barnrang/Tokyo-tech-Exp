{
 "cells": [
  {
   "cell_type": "code",
   "execution_count": 42,
   "metadata": {},
   "outputs": [
    {
     "name": "stdout",
     "output_type": "stream",
     "text": [
      "The autoreload extension is already loaded. To reload it, use:\n",
      "  %reload_ext autoreload\n"
     ]
    }
   ],
   "source": [
    "import tensorflow as tf\n",
    "from tensorflow import keras\n",
    "import numpy as np\n",
    "import matplotlib.pyplot as plt\n",
    "from noisy_bn import NoisyBatchNormalization\n",
    "\n",
    "%matplotlib inline\n",
    "%load_ext autoreload\n",
    "%autoreload 2"
   ]
  },
  {
   "cell_type": "code",
   "execution_count": 3,
   "metadata": {},
   "outputs": [
    {
     "name": "stdout",
     "output_type": "stream",
     "text": [
      "Downloading data from https://storage.googleapis.com/tensorflow/tf-keras-datasets/train-labels-idx1-ubyte.gz\n",
      "32768/29515 [=================================] - 0s 0us/step\n",
      "Downloading data from https://storage.googleapis.com/tensorflow/tf-keras-datasets/train-images-idx3-ubyte.gz\n",
      "26427392/26421880 [==============================] - 1s 0us/step\n",
      "Downloading data from https://storage.googleapis.com/tensorflow/tf-keras-datasets/t10k-labels-idx1-ubyte.gz\n",
      "8192/5148 [===============================================] - 0s 0us/step\n",
      "Downloading data from https://storage.googleapis.com/tensorflow/tf-keras-datasets/t10k-images-idx3-ubyte.gz\n",
      "4423680/4422102 [==============================] - 0s 0us/step\n"
     ]
    }
   ],
   "source": [
    "fashion_mnist = keras.datasets.fashion_mnist\n",
    "\n",
    "(train_images, train_labels), (test_images, test_labels) = fashion_mnist.load_data()"
   ]
  },
  {
   "cell_type": "code",
   "execution_count": 4,
   "metadata": {},
   "outputs": [
    {
     "data": {
      "text/plain": [
       "(60000, 28, 28)"
      ]
     },
     "execution_count": 4,
     "metadata": {},
     "output_type": "execute_result"
    }
   ],
   "source": [
    "train_images.shape"
   ]
  },
  {
   "cell_type": "code",
   "execution_count": 31,
   "metadata": {},
   "outputs": [],
   "source": [
    "# model 1\n",
    "tf.keras.backend.clear_session()\n",
    "input_node = keras.layers.Input((28,28))\n",
    "expand = keras.layers.Lambda(lambda x: tf.expand_dims(tf.cast(x, tf.float32) / 255., axis=-1))(input_node)\n",
    "\n",
    "conv1 = keras.layers.Conv2D(32, (3,3))(expand)\n",
    "batch1 = keras.layers.BatchNormalization()(conv1)\n",
    "pool1 = keras.layers.MaxPool2D((2,2))(batch1)\n",
    "\n",
    "conv2 = keras.layers.Conv2D(32, (3,3))(pool1)\n",
    "batch2 = keras.layers.BatchNormalization()(conv2)\n",
    "pool2 = keras.layers.MaxPool2D((2,2))(batch2)\n",
    "\n",
    "conv3 = keras.layers.Conv2D(32, (3,3))(pool2)\n",
    "batch3 = keras.layers.BatchNormalization()(conv3)\n",
    "pool3 = keras.layers.MaxPool2D((2,2))(batch3)\n",
    "\n",
    "av1 = keras.layers.GlobalAveragePooling2D()(pool3)\n",
    "\n",
    "h1 = keras.layers.Dense(512)(av1)\n",
    "batch4 = keras.layers.BatchNormalization()(h1)\n",
    "relu1 = keras.layers.Activation('relu')(batch4)\n",
    "\n",
    "output_h = tf.keras.layers.Dense(10)(relu1)\n",
    "output = tf.keras.layers.Activation('softmax')(output_h)\n",
    "\n"
   ]
  },
  {
   "cell_type": "code",
   "execution_count": 47,
   "metadata": {},
   "outputs": [
    {
     "name": "stdout",
     "output_type": "stream",
     "text": [
      "[0, 1, 2, 3] 3\n"
     ]
    },
    {
     "ename": "TypeError",
     "evalue": "You are attempting to use Python control flow in a layer that was not declared to be dynamic. Pass `dynamic=True` to the class constructor.\nEncountered error:\n\"\"\"\nUsing a `tf.Tensor` as a Python `bool` is not allowed. Use `if t is not None:` instead of `if t:` to test if a tensor is defined, and use TensorFlow ops such as tf.cond to execute subgraphs conditioned on the value of a tensor.\n\"\"\"",
     "output_type": "error",
     "traceback": [
      "\u001b[0;31m---------------------------------------------------------------------------\u001b[0m",
      "\u001b[0;31mTypeError\u001b[0m                                 Traceback (most recent call last)",
      "\u001b[0;32m~/miniconda3/envs/deeplr/lib/python3.7/site-packages/tensorflow/python/keras/engine/base_layer.py\u001b[0m in \u001b[0;36m__call__\u001b[0;34m(self, inputs, *args, **kwargs)\u001b[0m\n\u001b[1;32m    611\u001b[0m                                                       inputs)) as auto_updater:\n\u001b[0;32m--> 612\u001b[0;31m                 \u001b[0moutputs\u001b[0m \u001b[0;34m=\u001b[0m \u001b[0mself\u001b[0m\u001b[0;34m.\u001b[0m\u001b[0mcall\u001b[0m\u001b[0;34m(\u001b[0m\u001b[0minputs\u001b[0m\u001b[0;34m,\u001b[0m \u001b[0;34m*\u001b[0m\u001b[0margs\u001b[0m\u001b[0;34m,\u001b[0m \u001b[0;34m**\u001b[0m\u001b[0mkwargs\u001b[0m\u001b[0;34m)\u001b[0m\u001b[0;34m\u001b[0m\u001b[0;34m\u001b[0m\u001b[0m\n\u001b[0m\u001b[1;32m    613\u001b[0m                 \u001b[0mauto_updater\u001b[0m\u001b[0;34m.\u001b[0m\u001b[0mset_outputs\u001b[0m\u001b[0;34m(\u001b[0m\u001b[0moutputs\u001b[0m\u001b[0;34m)\u001b[0m\u001b[0;34m\u001b[0m\u001b[0;34m\u001b[0m\u001b[0m\n",
      "\u001b[0;32m~/Desktop/work/github/Tokyo-tech-Exp/Noisy-BN/noisy_bn.py\u001b[0m in \u001b[0;36mcall\u001b[0;34m(self, inputs, training)\u001b[0m\n\u001b[1;32m     26\u001b[0m \u001b[0;34m\u001b[0m\u001b[0m\n\u001b[0;32m---> 27\u001b[0;31m         \u001b[0;32mif\u001b[0m \u001b[0mtraining\u001b[0m\u001b[0;34m:\u001b[0m\u001b[0;34m\u001b[0m\u001b[0;34m\u001b[0m\u001b[0m\n\u001b[0m\u001b[1;32m     28\u001b[0m             \u001b[0mmean\u001b[0m \u001b[0;34m=\u001b[0m \u001b[0mbroadcast_mean_var\u001b[0m\u001b[0;34m(\u001b[0m\u001b[0mmean\u001b[0m\u001b[0;34m,\u001b[0m \u001b[0mndim\u001b[0m\u001b[0;34m)\u001b[0m\u001b[0;34m\u001b[0m\u001b[0;34m\u001b[0m\u001b[0m\n",
      "\u001b[0;32m~/miniconda3/envs/deeplr/lib/python3.7/site-packages/tensorflow/python/framework/ops.py\u001b[0m in \u001b[0;36m__bool__\u001b[0;34m(self)\u001b[0m\n\u001b[1;32m    659\u001b[0m     \"\"\"\n\u001b[0;32m--> 660\u001b[0;31m     raise TypeError(\"Using a `tf.Tensor` as a Python `bool` is not allowed. \"\n\u001b[0m\u001b[1;32m    661\u001b[0m                     \u001b[0;34m\"Use `if t is not None:` instead of `if t:` to test if a \"\u001b[0m\u001b[0;34m\u001b[0m\u001b[0;34m\u001b[0m\u001b[0m\n",
      "\u001b[0;31mTypeError\u001b[0m: Using a `tf.Tensor` as a Python `bool` is not allowed. Use `if t is not None:` instead of `if t:` to test if a tensor is defined, and use TensorFlow ops such as tf.cond to execute subgraphs conditioned on the value of a tensor.",
      "\nDuring handling of the above exception, another exception occurred:\n",
      "\u001b[0;31mTypeError\u001b[0m                                 Traceback (most recent call last)",
      "\u001b[0;32m<ipython-input-47-dd32a52c767b>\u001b[0m in \u001b[0;36m<module>\u001b[0;34m\u001b[0m\n\u001b[1;32m      5\u001b[0m \u001b[0;34m\u001b[0m\u001b[0m\n\u001b[1;32m      6\u001b[0m \u001b[0mconv1\u001b[0m \u001b[0;34m=\u001b[0m \u001b[0mkeras\u001b[0m\u001b[0;34m.\u001b[0m\u001b[0mlayers\u001b[0m\u001b[0;34m.\u001b[0m\u001b[0mConv2D\u001b[0m\u001b[0;34m(\u001b[0m\u001b[0;36m32\u001b[0m\u001b[0;34m,\u001b[0m \u001b[0;34m(\u001b[0m\u001b[0;36m3\u001b[0m\u001b[0;34m,\u001b[0m\u001b[0;36m3\u001b[0m\u001b[0;34m)\u001b[0m\u001b[0;34m)\u001b[0m\u001b[0;34m(\u001b[0m\u001b[0mexpand\u001b[0m\u001b[0;34m)\u001b[0m\u001b[0;34m\u001b[0m\u001b[0;34m\u001b[0m\u001b[0m\n\u001b[0;32m----> 7\u001b[0;31m \u001b[0mbatch1\u001b[0m \u001b[0;34m=\u001b[0m \u001b[0mNoisyBatchNormalization\u001b[0m\u001b[0;34m(\u001b[0m\u001b[0;36m0\u001b[0m\u001b[0;34m)\u001b[0m\u001b[0;34m(\u001b[0m\u001b[0mconv1\u001b[0m\u001b[0;34m)\u001b[0m\u001b[0;34m\u001b[0m\u001b[0;34m\u001b[0m\u001b[0m\n\u001b[0m\u001b[1;32m      8\u001b[0m \u001b[0mpool1\u001b[0m \u001b[0;34m=\u001b[0m \u001b[0mkeras\u001b[0m\u001b[0;34m.\u001b[0m\u001b[0mlayers\u001b[0m\u001b[0;34m.\u001b[0m\u001b[0mMaxPool2D\u001b[0m\u001b[0;34m(\u001b[0m\u001b[0;34m(\u001b[0m\u001b[0;36m2\u001b[0m\u001b[0;34m,\u001b[0m\u001b[0;36m2\u001b[0m\u001b[0;34m)\u001b[0m\u001b[0;34m)\u001b[0m\u001b[0;34m(\u001b[0m\u001b[0mbatch1\u001b[0m\u001b[0;34m)\u001b[0m\u001b[0;34m\u001b[0m\u001b[0;34m\u001b[0m\u001b[0m\n\u001b[1;32m      9\u001b[0m \u001b[0;34m\u001b[0m\u001b[0m\n",
      "\u001b[0;32m~/miniconda3/envs/deeplr/lib/python3.7/site-packages/tensorflow/python/keras/engine/base_layer.py\u001b[0m in \u001b[0;36m__call__\u001b[0;34m(self, inputs, *args, **kwargs)\u001b[0m\n\u001b[1;32m    623\u001b[0m                                   \u001b[0;34m'dynamic. Pass `dynamic=True` to the class '\u001b[0m\u001b[0;34m\u001b[0m\u001b[0;34m\u001b[0m\u001b[0m\n\u001b[1;32m    624\u001b[0m                                   \u001b[0;34m'constructor.\\nEncountered error:\\n\"\"\"\\n'\u001b[0m \u001b[0;34m+\u001b[0m\u001b[0;34m\u001b[0m\u001b[0;34m\u001b[0m\u001b[0m\n\u001b[0;32m--> 625\u001b[0;31m                                   exception_str + '\\n\"\"\"')\n\u001b[0m\u001b[1;32m    626\u001b[0m               \u001b[0;32mraise\u001b[0m\u001b[0;34m\u001b[0m\u001b[0;34m\u001b[0m\u001b[0m\n\u001b[1;32m    627\u001b[0m           \u001b[0;32melse\u001b[0m\u001b[0;34m:\u001b[0m\u001b[0;34m\u001b[0m\u001b[0;34m\u001b[0m\u001b[0m\n",
      "\u001b[0;31mTypeError\u001b[0m: You are attempting to use Python control flow in a layer that was not declared to be dynamic. Pass `dynamic=True` to the class constructor.\nEncountered error:\n\"\"\"\nUsing a `tf.Tensor` as a Python `bool` is not allowed. Use `if t is not None:` instead of `if t:` to test if a tensor is defined, and use TensorFlow ops such as tf.cond to execute subgraphs conditioned on the value of a tensor.\n\"\"\""
     ]
    }
   ],
   "source": [
    "# model 2\n",
    "tf.keras.backend.clear_session()\n",
    "# input_node = keras.layers.Input((28,28))\n",
    "# expand = keras.layers.Lambda(lambda x: tf.expand_dims(tf.cast(x, tf.float32) / 255., axis=-1))(input_node)\n",
    "\n",
    "# conv1 = keras.layers.Conv2D(32, (3,3))(expand)\n",
    "# batch1 = NoisyBatchNormalization(0)(conv1)\n",
    "# pool1 = keras.layers.MaxPool2D((2,2))(batch1)\n",
    "\n",
    "# conv2 = keras.layers.Conv2D(32, (3,3))(pool1)\n",
    "# batch2 = NoisyBatchNormalization(0)(conv2)\n",
    "# pool2 = keras.layers.MaxPool2D((2,2))(batch2)\n",
    "\n",
    "# conv3 = keras.layers.Conv2D(32, (3,3))(pool2)\n",
    "# batch3 = NoisyBatchNormalization(0)(conv3)\n",
    "# pool3 = keras.layers.MaxPool2D((2,2))(batch3)\n",
    "\n",
    "# av1 = keras.layers.GlobalAveragePooling2D()(pool3)\n",
    "\n",
    "# h1 = keras.layers.Dense(512)(av1)\n",
    "# batch4 = NoisyBatchNormalization(0)(h1)\n",
    "# relu1 = keras.layers.Activation('relu')(batch4)\n",
    "\n",
    "# output_h = tf.keras.layers.Dense(10, act)(relu1)\n",
    "# output = tf.keras.layers.Activation('softmax')(output_h)\n",
    "\n",
    "\n",
    "class MyModel(keras.Model):\n",
    "    def __init__(self):\n",
    "        super(MyModel, self).__init__()\n",
    "        self.conv1 = keras.layers.Conv2D(32, (3,3))\n",
    "        self.conv2 = keras.layers.Conv2D(32, (3,3))\n",
    "        self.conv3 = keras.layers.Conv2D(32, (3,3))\n",
    "        \n",
    "        self.batch1 = NoisyBatchNormalization(0)\n",
    "        self.batch2 = NoisyBatchNormalization(0)\n",
    "        self.batch3 = NoisyBatchNormalization(0)\n",
    "        self.batch4 = NoisyBatchNormalization(0)\n",
    "        \n",
    "        self.pool = keras.layers.MaxPool2D((2,2))\n",
    "        \n",
    "        self.globalav = keras.layers.GlobalAveragePooling2D()\n",
    "        \n",
    "        self.dense1 = keras.layers.Dense(512)\n",
    "        self.dense2 = keras.layers.Dense(10, activation='softmax')\n",
    "        self.relu1 = keras.layers.Activation('relu')\n",
    "        \n",
    "    def call(self, inputs):\n",
    "        \n",
    "        conv1 = self.conv1(inputs)\n",
    "        batch1 = self.batch1(conv1)\n",
    "        pool1 = self.pool(batch1)\n",
    "        \n",
    "        conv2 = self.conv1(pool1)\n",
    "        batch2 = self.batch1(conv2)\n",
    "        pool2 = self.pool(batch2)\n",
    "\n",
    "        \n",
    "        conv3 = self.conv1(pool2)\n",
    "        batch3 = self.batch1(conv3)\n",
    "        pool3 = self.pool(batch3)\n",
    "        \n",
    "        av = self.globalav(pool3)\n",
    "        \n",
    "        dense1 = self.dense1(av)\n",
    "        batch4 = self.batch4(dense1)\n",
    "        \n"
   ]
  },
  {
   "cell_type": "code",
   "execution_count": 32,
   "metadata": {},
   "outputs": [],
   "source": [
    "model = tf.keras.Model(input_node, output)"
   ]
  },
  {
   "cell_type": "code",
   "execution_count": 35,
   "metadata": {},
   "outputs": [],
   "source": [
    "model.compile(optimizer='adam', loss='categorical_crossentropy', metrics=['accuracy'])"
   ]
  },
  {
   "cell_type": "code",
   "execution_count": 36,
   "metadata": {},
   "outputs": [
    {
     "name": "stdout",
     "output_type": "stream",
     "text": [
      "Train on 60000 samples, validate on 10000 samples\n",
      "Epoch 1/5\n",
      "60000/60000 [==============================] - 30s 503us/sample - loss: 0.5211 - accuracy: 0.8121 - val_loss: 0.4071 - val_accuracy: 0.8541\n",
      "Epoch 2/5\n",
      "60000/60000 [==============================] - 30s 498us/sample - loss: 0.3902 - accuracy: 0.8580 - val_loss: 0.4070 - val_accuracy: 0.8509\n",
      "Epoch 3/5\n",
      "60000/60000 [==============================] - 30s 497us/sample - loss: 0.3522 - accuracy: 0.8726 - val_loss: 0.3816 - val_accuracy: 0.8634\n",
      "Epoch 4/5\n",
      "60000/60000 [==============================] - 30s 498us/sample - loss: 0.3252 - accuracy: 0.8813 - val_loss: 0.4067 - val_accuracy: 0.8575\n",
      "Epoch 5/5\n",
      "60000/60000 [==============================] - 30s 496us/sample - loss: 0.3026 - accuracy: 0.8894 - val_loss: 0.3436 - val_accuracy: 0.8753\n"
     ]
    },
    {
     "data": {
      "text/plain": [
       "<tensorflow.python.keras.callbacks.History at 0x7fbc929c4c50>"
      ]
     },
     "execution_count": 36,
     "metadata": {},
     "output_type": "execute_result"
    }
   ],
   "source": [
    "from tensorflow.keras.utils import to_categorical\n",
    "model.fit(train_images, to_categorical(train_labels), batch_size=32, epochs=5,validation_data=(test_images, to_categorical(test_labels)), verbose=1)"
   ]
  },
  {
   "cell_type": "code",
   "execution_count": null,
   "metadata": {
    "collapsed": true
   },
   "outputs": [],
   "source": [
    "tf.keras.layers.BatchNormalization()"
   ]
  },
  {
   "cell_type": "code",
   "execution_count": 16,
   "metadata": {},
   "outputs": [],
   "source": [
    "class TestLayer(tf.keras.layers.Layer):\n",
    "    def __init__(self, units, input_dim):\n",
    "        super(TestLayer, self).__init__()\n",
    "        self.w = self.add_weight(shape=(input_dim, units),\n",
    "                             initializer=tf.zeros_initializer,\n",
    "                             trainable=True)\n",
    "        \n",
    "        \n",
    "    def call(self, inputs, training=None):\n",
    "        self.w = self.w + 1\n",
    "        return inputs"
   ]
  },
  {
   "cell_type": "code",
   "execution_count": 17,
   "metadata": {},
   "outputs": [],
   "source": [
    "test_layer = TestLayer(32, 32)"
   ]
  },
  {
   "cell_type": "code",
   "execution_count": 18,
   "metadata": {},
   "outputs": [],
   "source": [
    "input_const = tf.constant([1,2,3])\n",
    "output_const = test_layer(input_const)"
   ]
  },
  {
   "cell_type": "code",
   "execution_count": 19,
   "metadata": {},
   "outputs": [
    {
     "data": {
      "text/plain": [
       "<tf.Tensor: id=26, shape=(32, 32), dtype=float32, numpy=\n",
       "array([[1., 1., 1., ..., 1., 1., 1.],\n",
       "       [1., 1., 1., ..., 1., 1., 1.],\n",
       "       [1., 1., 1., ..., 1., 1., 1.],\n",
       "       ...,\n",
       "       [1., 1., 1., ..., 1., 1., 1.],\n",
       "       [1., 1., 1., ..., 1., 1., 1.],\n",
       "       [1., 1., 1., ..., 1., 1., 1.]], dtype=float32)>"
      ]
     },
     "execution_count": 19,
     "metadata": {},
     "output_type": "execute_result"
    }
   ],
   "source": [
    "test_layer.w"
   ]
  },
  {
   "cell_type": "code",
   "execution_count": null,
   "metadata": {},
   "outputs": [],
   "source": []
  }
 ],
 "metadata": {
  "kernelspec": {
   "display_name": "Python 3",
   "language": "python",
   "name": "python3"
  },
  "language_info": {
   "codemirror_mode": {
    "name": "ipython",
    "version": 3
   },
   "file_extension": ".py",
   "mimetype": "text/x-python",
   "name": "python",
   "nbconvert_exporter": "python",
   "pygments_lexer": "ipython3",
   "version": "3.7.1"
  }
 },
 "nbformat": 4,
 "nbformat_minor": 2
}
