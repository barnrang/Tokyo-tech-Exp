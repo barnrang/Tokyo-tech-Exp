{
 "cells": [
  {
   "cell_type": "code",
   "execution_count": 2,
   "metadata": {},
   "outputs": [
    {
     "name": "stdout",
     "output_type": "stream",
     "text": [
      "The autoreload extension is already loaded. To reload it, use:\n",
      "  %reload_ext autoreload\n"
     ]
    }
   ],
   "source": [
    "import os\n",
    "os.environ[\"CUDA_VISIBLE_DEVICES\"]=\"-1\"\n",
    "\n",
    "import tensorflow as tf\n",
    "import tensorflow.keras as keras\n",
    "import numpy as np\n",
    "\n",
    "from tensorflow.python.keras.utils import tf_utils\n",
    "\n",
    "import sys\n",
    "sys.path.append('../')\n",
    "\n",
    "from layers.noisy_bn import NoisyBatchNormalization, BetterNoisyBatchNormalization\n",
    "%load_ext autoreload\n",
    "%autoreload 2"
   ]
  },
  {
   "cell_type": "code",
   "execution_count": 21,
   "metadata": {},
   "outputs": [],
   "source": [
    "class TestLayer(keras.layers.Layer):\n",
    "    \n",
    "    def __init__(self):\n",
    "        super(TestLayer, self).__init__()\n",
    "        self.weight = self.add_weight(shape=(),\n",
    "                                     initializer='zeros',\n",
    "                                     trainable=False)\n",
    "        \n",
    "    def call(self, inputs, training=None):\n",
    "        if training is None:\n",
    "            training = keras.backend.learning_phase()\n",
    "        \n",
    "#         self.weight.assign(self.weight+1)\n",
    "        def train_fn_(self):\n",
    "            self.weight.assign(self.weight+1)\n",
    "            return tf.zeros(tf.shape(inputs))\n",
    "        \n",
    "        train_fn = lambda: train_fn_(self)\n",
    "        eval_fn = lambda: tf.ones(tf.shape(inputs))\n",
    "            \n",
    "        return tf_utils.smart_cond(training, train_fn, eval_fn)"
   ]
  },
  {
   "cell_type": "code",
   "execution_count": 22,
   "metadata": {},
   "outputs": [
    {
     "data": {
      "text/plain": [
       "0"
      ]
     },
     "execution_count": 22,
     "metadata": {},
     "output_type": "execute_result"
    }
   ],
   "source": [
    "keras.backend.learning_phase()"
   ]
  },
  {
   "cell_type": "code",
   "execution_count": 23,
   "metadata": {},
   "outputs": [],
   "source": [
    "class MyModel(keras.Model):\n",
    "    def __init__(self):\n",
    "        super(MyModel, self).__init__()\n",
    "        self.layer = TestLayer()\n",
    "        \n",
    "    def call(self, inputs, training=None):\n",
    "        return self.layer(inputs, training)"
   ]
  },
  {
   "cell_type": "code",
   "execution_count": 24,
   "metadata": {},
   "outputs": [],
   "source": [
    "model = MyModel()"
   ]
  },
  {
   "cell_type": "code",
   "execution_count": 25,
   "metadata": {},
   "outputs": [],
   "source": [
    "X = np.random.rand(97,100)\n",
    "y = np.ones((97,100))"
   ]
  },
  {
   "cell_type": "code",
   "execution_count": 26,
   "metadata": {},
   "outputs": [
    {
     "data": {
      "text/plain": [
       "<tf.Tensor: id=722, shape=(97, 100), dtype=float32, numpy=\n",
       "array([[1., 1., 1., ..., 1., 1., 1.],\n",
       "       [1., 1., 1., ..., 1., 1., 1.],\n",
       "       [1., 1., 1., ..., 1., 1., 1.],\n",
       "       ...,\n",
       "       [1., 1., 1., ..., 1., 1., 1.],\n",
       "       [1., 1., 1., ..., 1., 1., 1.],\n",
       "       [1., 1., 1., ..., 1., 1., 1.]], dtype=float32)>"
      ]
     },
     "execution_count": 26,
     "metadata": {},
     "output_type": "execute_result"
    }
   ],
   "source": [
    "model(X, False)"
   ]
  },
  {
   "cell_type": "code",
   "execution_count": 27,
   "metadata": {},
   "outputs": [],
   "source": [
    "model.compile(optimizer='adam',loss='mse')"
   ]
  },
  {
   "cell_type": "code",
   "execution_count": 28,
   "metadata": {},
   "outputs": [
    {
     "name": "stdout",
     "output_type": "stream",
     "text": [
      "Epoch 1/5\n",
      "97/97 [==============================] - 0s 681us/sample - loss: 1.0000\n",
      "Epoch 2/5\n",
      "97/97 [==============================] - 0s 106us/sample - loss: 1.0000\n",
      "Epoch 3/5\n",
      "97/97 [==============================] - 0s 134us/sample - loss: 1.0000\n",
      "Epoch 4/5\n",
      "97/97 [==============================] - 0s 105us/sample - loss: 1.0000\n",
      "Epoch 5/5\n",
      "97/97 [==============================] - 0s 117us/sample - loss: 1.0000\n"
     ]
    },
    {
     "data": {
      "text/plain": [
       "<tensorflow.python.keras.callbacks.History at 0x129dbecf8>"
      ]
     },
     "execution_count": 28,
     "metadata": {},
     "output_type": "execute_result"
    }
   ],
   "source": [
    "model.fit(x=X, y=y, epochs=5)"
   ]
  },
  {
   "cell_type": "code",
   "execution_count": 29,
   "metadata": {},
   "outputs": [
    {
     "data": {
      "text/plain": [
       "<tf.Variable 'Variable:0' shape=() dtype=float32, numpy=0.0>"
      ]
     },
     "execution_count": 29,
     "metadata": {},
     "output_type": "execute_result"
    }
   ],
   "source": [
    "model.layer.weight"
   ]
  },
  {
   "cell_type": "code",
   "execution_count": 97,
   "metadata": {},
   "outputs": [
    {
     "data": {
      "text/plain": [
       "array([[1., 1., 1., ..., 1., 1., 1.],\n",
       "       [1., 1., 1., ..., 1., 1., 1.],\n",
       "       [1., 1., 1., ..., 1., 1., 1.],\n",
       "       ...,\n",
       "       [1., 1., 1., ..., 1., 1., 1.],\n",
       "       [1., 1., 1., ..., 1., 1., 1.],\n",
       "       [1., 1., 1., ..., 1., 1., 1.]], dtype=float32)"
      ]
     },
     "execution_count": 97,
     "metadata": {},
     "output_type": "execute_result"
    }
   ],
   "source": [
    "model.predict(X)"
   ]
  },
  {
   "cell_type": "code",
   "execution_count": 10,
   "metadata": {},
   "outputs": [],
   "source": [
    "a = np.array([[1.,2.,3.,4.,5.], [5.,4.,3.,2.,1.]], dtype=np.float32)\n",
    "b = np.random.rand(2,2,2,2).astype(np.float32)\n",
    "norm1 = keras.layers.BatchNormalization()\n",
    "norm2 = keras.layers.BatchNormalization()"
   ]
  },
  {
   "cell_type": "code",
   "execution_count": 4,
   "metadata": {},
   "outputs": [],
   "source": [
    "for x in range(1000):\n",
    "    _ = norm1(a, training=True)\n",
    "    _ = norm2(a, training=True)"
   ]
  },
  {
   "cell_type": "code",
   "execution_count": 5,
   "metadata": {},
   "outputs": [
    {
     "data": {
      "text/plain": [
       "(<tf.Tensor: id=54085, shape=(2, 5), dtype=float32, numpy=\n",
       " array([[-0.9998265 , -0.99937105,  0.00400543,  0.99962974,  0.9999559 ],\n",
       "        [ 0.9999559 ,  0.99962974,  0.00400543, -0.99937105, -0.9998265 ]],\n",
       "       dtype=float32)>,\n",
       " <tf.Tensor: id=54098, shape=(2, 5), dtype=float32, numpy=\n",
       " array([[-0.9998265 , -0.99937105,  0.00400543,  0.99962974,  0.9999559 ],\n",
       "        [ 0.9999559 ,  0.99962974,  0.00400543, -0.99937105, -0.9998265 ]],\n",
       "       dtype=float32)>)"
      ]
     },
     "execution_count": 5,
     "metadata": {},
     "output_type": "execute_result"
    }
   ],
   "source": [
    "norm1(a, training=False), norm2(a, training=False)"
   ]
  },
  {
   "cell_type": "code",
   "execution_count": 11,
   "metadata": {},
   "outputs": [],
   "source": [
    "noisy_batch = BetterNoisyBatchNormalization(alpha=0.0)"
   ]
  },
  {
   "cell_type": "code",
   "execution_count": 7,
   "metadata": {},
   "outputs": [],
   "source": [
    "for _ in range(1000):\n",
    "    noisy_batch(a, training=True)"
   ]
  },
  {
   "cell_type": "code",
   "execution_count": 8,
   "metadata": {},
   "outputs": [
    {
     "data": {
      "text/plain": [
       "<tf.Tensor: id=103149, shape=(2, 5), dtype=float32, numpy=\n",
       "array([[-0.9998265 , -0.99937105,  0.00400543,  0.99962974,  0.9999559 ],\n",
       "       [ 0.9999559 ,  0.99962974,  0.00400543, -0.99937105, -0.9998265 ]],\n",
       "      dtype=float32)>"
      ]
     },
     "execution_count": 8,
     "metadata": {},
     "output_type": "execute_result"
    }
   ],
   "source": [
    "noisy_batch(a, training=False)"
   ]
  },
  {
   "cell_type": "code",
   "execution_count": 12,
   "metadata": {},
   "outputs": [
    {
     "data": {
      "text/plain": [
       "(<tf.Tensor: id=103195, shape=(2, 2, 2, 2), dtype=float32, numpy=\n",
       " array([[[[ 0.69621027, -0.13438885],\n",
       "          [-0.3277291 ,  1.0909348 ]],\n",
       " \n",
       "         [[ 1.4646038 ,  1.0638347 ],\n",
       "          [-1.2575142 , -0.6498192 ]]],\n",
       " \n",
       " \n",
       "        [[[-0.9798999 , -1.1927565 ],\n",
       "          [ 0.8688836 ,  0.3792724 ]],\n",
       " \n",
       "         [[-1.1709852 ,  1.0345124 ],\n",
       "          [ 0.7064312 , -1.5915896 ]]]], dtype=float32)>,\n",
       " <tf.Tensor: id=103252, shape=(2, 2, 2, 2), dtype=float32, numpy=\n",
       " array([[[[ 0.69621027, -0.13438885],\n",
       "          [-0.3277291 ,  1.0909348 ]],\n",
       " \n",
       "         [[ 1.4646038 ,  1.0638347 ],\n",
       "          [-1.2575142 , -0.6498192 ]]],\n",
       " \n",
       " \n",
       "        [[[-0.9798999 , -1.1927565 ],\n",
       "          [ 0.8688836 ,  0.3792724 ]],\n",
       " \n",
       "         [[-1.1709852 ,  1.0345124 ],\n",
       "          [ 0.7064312 , -1.5915896 ]]]], dtype=float32)>)"
      ]
     },
     "execution_count": 12,
     "metadata": {},
     "output_type": "execute_result"
    }
   ],
   "source": [
    "norm1(b, training=True), norm2(b, training=True)"
   ]
  },
  {
   "cell_type": "code",
   "execution_count": 13,
   "metadata": {},
   "outputs": [
    {
     "data": {
      "text/plain": [
       "<tf.Tensor: id=103348, shape=(2, 2, 2, 2), dtype=float32, numpy=\n",
       "array([[[[ 0.69621027, -0.13438885],\n",
       "         [-0.3277291 ,  1.0909348 ]],\n",
       "\n",
       "        [[ 1.4646038 ,  1.0638347 ],\n",
       "         [-1.2575142 , -0.6498192 ]]],\n",
       "\n",
       "\n",
       "       [[[-0.9798999 , -1.1927565 ],\n",
       "         [ 0.8688836 ,  0.3792724 ]],\n",
       "\n",
       "        [[-1.1709852 ,  1.0345124 ],\n",
       "         [ 0.7064312 , -1.5915896 ]]]], dtype=float32)>"
      ]
     },
     "execution_count": 13,
     "metadata": {},
     "output_type": "execute_result"
    }
   ],
   "source": [
    "noisy_batch(b, training=True)"
   ]
  },
  {
   "cell_type": "code",
   "execution_count": 35,
   "metadata": {},
   "outputs": [],
   "source": [
    "def batchnorm_forward(X):\n",
    "    mu = np.mean(X, axis=(0,1,2))\n",
    "    var = np.var(X, axis=(0,1,2))\n",
    "\n",
    "    X_norm = (X - mu) / np.sqrt(var + 0.001)\n",
    "    out = 1 * X_norm \n",
    "\n",
    "    return out"
   ]
  },
  {
   "cell_type": "code",
   "execution_count": 37,
   "metadata": {},
   "outputs": [
    {
     "data": {
      "text/plain": [
       "array([[[[-0.73704042, -0.18121228],\n",
       "         [ 1.24844679,  0.9654738 ]],\n",
       "\n",
       "        [[-0.80001376,  1.33775863],\n",
       "         [ 1.05068317,  0.61308071]]],\n",
       "\n",
       "\n",
       "       [[[-0.9519694 , -1.62714515],\n",
       "         [-1.12262878,  0.39589516]],\n",
       "\n",
       "        [[-0.06086089, -1.39443851],\n",
       "         [ 1.3733833 , -0.10941236]]]])"
      ]
     },
     "execution_count": 37,
     "metadata": {},
     "output_type": "execute_result"
    }
   ],
   "source": [
    "batchnorm_forward(b.astype(np.float64))"
   ]
  },
  {
   "cell_type": "code",
   "execution_count": 14,
   "metadata": {},
   "outputs": [
    {
     "data": {
      "text/plain": [
       "(<tf.Tensor: id=103355, shape=(2, 2, 2, 2), dtype=float32, numpy=\n",
       " array([[[[0.64110553, 0.55212283],\n",
       "          [0.3444212 , 0.974324  ]],\n",
       " \n",
       "         [[0.863746  , 0.96498626],\n",
       "          [0.07501787, 0.3745246 ]]],\n",
       " \n",
       " \n",
       "        [[[0.15545607, 0.18744847],\n",
       "          [0.69113725, 0.7291115 ]],\n",
       " \n",
       "         [[0.10008946, 0.9548829 ],\n",
       "          [0.64406705, 0.05002537]]]], dtype=float32)>,\n",
       " <tf.Tensor: id=103366, shape=(2, 2, 2, 2), dtype=float32, numpy=\n",
       " array([[[[0.64110553, 0.55212283],\n",
       "          [0.3444212 , 0.974324  ]],\n",
       " \n",
       "         [[0.863746  , 0.96498626],\n",
       "          [0.07501787, 0.3745246 ]]],\n",
       " \n",
       " \n",
       "        [[[0.15545607, 0.18744847],\n",
       "          [0.69113725, 0.7291115 ]],\n",
       " \n",
       "         [[0.10008946, 0.9548829 ],\n",
       "          [0.64406705, 0.05002537]]]], dtype=float32)>)"
      ]
     },
     "execution_count": 14,
     "metadata": {},
     "output_type": "execute_result"
    }
   ],
   "source": [
    "norm1(b, training=False), norm2(b, training=False)"
   ]
  },
  {
   "cell_type": "code",
   "execution_count": 15,
   "metadata": {},
   "outputs": [
    {
     "data": {
      "text/plain": [
       "(<tf.Variable 'batch_normalization_v2_2/moving_mean:0' shape=(2,) dtype=float32, numpy=array([0.00442026, 0.00602151], dtype=float32)>,\n",
       " <tf.Variable 'batch_normalization_v2_2/moving_variance:0' shape=(2,) dtype=float32, numpy=array([0.99094033, 0.99133503], dtype=float32)>)"
      ]
     },
     "execution_count": 15,
     "metadata": {},
     "output_type": "execute_result"
    }
   ],
   "source": [
    "norm1.moving_mean, norm1.moving_variance"
   ]
  },
  {
   "cell_type": "code",
   "execution_count": 16,
   "metadata": {},
   "outputs": [
    {
     "data": {
      "text/plain": [
       "(<tf.Variable 'better_noisy_batch_normalization_1/moving_mean:0' shape=(2,) dtype=float32, numpy=array([0.00442026, 0.00602151], dtype=float32)>,\n",
       " <tf.Variable 'better_noisy_batch_normalization_1/moving_variance:0' shape=(2,) dtype=float32, numpy=array([0.99094033, 0.99133503], dtype=float32)>)"
      ]
     },
     "execution_count": 16,
     "metadata": {},
     "output_type": "execute_result"
    }
   ],
   "source": [
    "noisy_batch.moving_mean, noisy_batch.moving_variance"
   ]
  },
  {
   "cell_type": "code",
   "execution_count": 18,
   "metadata": {},
   "outputs": [
    {
     "data": {
      "text/plain": [
       "(<tf.Variable 'better_noisy_batch_normalization_1/gamma:0' shape=(2,) dtype=float32, numpy=array([1., 1.], dtype=float32)>,\n",
       " <tf.Variable 'better_noisy_batch_normalization_1/beta:0' shape=(2,) dtype=float32, numpy=array([0., 0.], dtype=float32)>)"
      ]
     },
     "execution_count": 18,
     "metadata": {},
     "output_type": "execute_result"
    }
   ],
   "source": [
    "noisy_batch.gamma, noisy_batch.beta"
   ]
  },
  {
   "cell_type": "code",
   "execution_count": null,
   "metadata": {},
   "outputs": [],
   "source": [
    "for x in range(1000):\n",
    "    _ = norm1(b, training=True)\n",
    "    _ = norm2(b, training=True)"
   ]
  },
  {
   "cell_type": "code",
   "execution_count": null,
   "metadata": {},
   "outputs": [],
   "source": [
    "for _ in range(1000):\n",
    "    noisy_batch(b, training=True)"
   ]
  },
  {
   "cell_type": "code",
   "execution_count": null,
   "metadata": {},
   "outputs": [],
   "source": [
    "noisy_batch(b, b)"
   ]
  }
 ],
 "metadata": {
  "kernelspec": {
   "display_name": "Python 3",
   "language": "python",
   "name": "python3"
  },
  "language_info": {
   "codemirror_mode": {
    "name": "ipython",
    "version": 3
   },
   "file_extension": ".py",
   "mimetype": "text/x-python",
   "name": "python",
   "nbconvert_exporter": "python",
   "pygments_lexer": "ipython3",
   "version": "3.7.1"
  }
 },
 "nbformat": 4,
 "nbformat_minor": 2
}
