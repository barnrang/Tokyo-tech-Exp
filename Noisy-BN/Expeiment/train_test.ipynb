{
 "cells": [
  {
   "cell_type": "code",
   "execution_count": 87,
   "metadata": {},
   "outputs": [],
   "source": [
    "import tensorflow as tf\n",
    "import tensorflow.keras as keras\n",
    "import numpy as np\n",
    "\n",
    "from tensorflow.python.keras.utils import tf_utils"
   ]
  },
  {
   "cell_type": "code",
   "execution_count": 88,
   "metadata": {},
   "outputs": [],
   "source": [
    "class TestLayer(keras.layers.Layer):\n",
    "        \n",
    "    def call(self, inputs, training=None):\n",
    "        if training is None:\n",
    "            training = keras.backend.learning_phase()\n",
    "        \n",
    "        train_fn = lambda: tf.zeros(tf.shape(inputs))\n",
    "        eval_fn = lambda: tf.ones(tf.shape(inputs))\n",
    "            \n",
    "        return tf_utils.smart_cond(training, train_fn, eval_fn)"
   ]
  },
  {
   "cell_type": "code",
   "execution_count": 67,
   "metadata": {},
   "outputs": [
    {
     "data": {
      "text/plain": [
       "0"
      ]
     },
     "execution_count": 67,
     "metadata": {},
     "output_type": "execute_result"
    }
   ],
   "source": [
    "keras.backend.learning_phase()"
   ]
  },
  {
   "cell_type": "code",
   "execution_count": 89,
   "metadata": {},
   "outputs": [],
   "source": [
    "class MyModel(keras.Model):\n",
    "    def __init__(self):\n",
    "        super(MyModel, self).__init__()\n",
    "        self.layer = TestLayer()\n",
    "        \n",
    "    def call(self, inputs, training=None):\n",
    "        return self.layer(inputs, training)"
   ]
  },
  {
   "cell_type": "code",
   "execution_count": 90,
   "metadata": {},
   "outputs": [],
   "source": [
    "model = MyModel()"
   ]
  },
  {
   "cell_type": "code",
   "execution_count": 91,
   "metadata": {},
   "outputs": [],
   "source": [
    "X = np.random.rand(97,100)\n",
    "y = np.ones((97,100))"
   ]
  },
  {
   "cell_type": "code",
   "execution_count": 94,
   "metadata": {},
   "outputs": [
    {
     "data": {
      "text/plain": [
       "<tf.Tensor: id=878, shape=(97, 100), dtype=float32, numpy=\n",
       "array([[1., 1., 1., ..., 1., 1., 1.],\n",
       "       [1., 1., 1., ..., 1., 1., 1.],\n",
       "       [1., 1., 1., ..., 1., 1., 1.],\n",
       "       ...,\n",
       "       [1., 1., 1., ..., 1., 1., 1.],\n",
       "       [1., 1., 1., ..., 1., 1., 1.],\n",
       "       [1., 1., 1., ..., 1., 1., 1.]], dtype=float32)>"
      ]
     },
     "execution_count": 94,
     "metadata": {},
     "output_type": "execute_result"
    }
   ],
   "source": [
    "model(X, False)"
   ]
  },
  {
   "cell_type": "code",
   "execution_count": 95,
   "metadata": {},
   "outputs": [],
   "source": [
    "model.compile(optimizer='adam',loss='mse')"
   ]
  },
  {
   "cell_type": "code",
   "execution_count": 96,
   "metadata": {},
   "outputs": [
    {
     "name": "stdout",
     "output_type": "stream",
     "text": [
      "Epoch 1/5\n",
      "97/97 [==============================] - 0s 740us/sample - loss: 1.0000\n",
      "Epoch 2/5\n",
      "97/97 [==============================] - 0s 72us/sample - loss: 1.0000\n",
      "Epoch 3/5\n",
      "97/97 [==============================] - 0s 113us/sample - loss: 1.0000\n",
      "Epoch 4/5\n",
      "97/97 [==============================] - 0s 72us/sample - loss: 1.0000\n",
      "Epoch 5/5\n",
      "97/97 [==============================] - 0s 82us/sample - loss: 1.0000\n"
     ]
    },
    {
     "data": {
      "text/plain": [
       "<tensorflow.python.keras.callbacks.History at 0x211867eac50>"
      ]
     },
     "execution_count": 96,
     "metadata": {},
     "output_type": "execute_result"
    }
   ],
   "source": [
    "model.fit(x=X, y=y, epochs=5)"
   ]
  },
  {
   "cell_type": "code",
   "execution_count": 97,
   "metadata": {},
   "outputs": [
    {
     "data": {
      "text/plain": [
       "array([[1., 1., 1., ..., 1., 1., 1.],\n",
       "       [1., 1., 1., ..., 1., 1., 1.],\n",
       "       [1., 1., 1., ..., 1., 1., 1.],\n",
       "       ...,\n",
       "       [1., 1., 1., ..., 1., 1., 1.],\n",
       "       [1., 1., 1., ..., 1., 1., 1.],\n",
       "       [1., 1., 1., ..., 1., 1., 1.]], dtype=float32)"
      ]
     },
     "execution_count": 97,
     "metadata": {},
     "output_type": "execute_result"
    }
   ],
   "source": [
    "model.predict(X)"
   ]
  },
  {
   "cell_type": "code",
   "execution_count": 56,
   "metadata": {},
   "outputs": [],
   "source": [
    "drop = keras.layers.Dropout(0.5)"
   ]
  },
  {
   "cell_type": "code",
   "execution_count": 102,
   "metadata": {},
   "outputs": [
    {
     "data": {
      "text/plain": [
       "<tf.Tensor: id=1415, shape=(2, 5), dtype=float64, numpy=\n",
       "array([[1., 2., 3., 4., 5.],\n",
       "       [5., 4., 3., 2., 1.]])>"
      ]
     },
     "execution_count": 102,
     "metadata": {},
     "output_type": "execute_result"
    }
   ],
   "source": [
    "a = np.array([[1.,2.,3.,4.,5.], [5.,4.,3.,2.,1.]])\n",
    "drop(a, training=False)"
   ]
  },
  {
   "cell_type": "code",
   "execution_count": 70,
   "metadata": {},
   "outputs": [],
   "source": [
    "inp = keras.layers.Input((5,))\n",
    "out = keras.layers.Dropout(0.5)(inp)\n",
    "model = keras.Model(inp, out)"
   ]
  },
  {
   "cell_type": "code",
   "execution_count": 72,
   "metadata": {},
   "outputs": [
    {
     "name": "stdout",
     "output_type": "stream",
     "text": [
      "Model: \"model_1\"\n",
      "_________________________________________________________________\n",
      "Layer (type)                 Output Shape              Param #   \n",
      "=================================================================\n",
      "input_2 (InputLayer)         [(None, 5)]               0         \n",
      "_________________________________________________________________\n",
      "dropout_2 (Dropout)          (None, 5)                 0         \n",
      "=================================================================\n",
      "Total params: 0\n",
      "Trainable params: 0\n",
      "Non-trainable params: 0\n",
      "_________________________________________________________________\n"
     ]
    }
   ],
   "source": [
    "model.summary()"
   ]
  },
  {
   "cell_type": "code",
   "execution_count": 81,
   "metadata": {},
   "outputs": [
    {
     "data": {
      "text/plain": [
       "<tf.Tensor: id=868, shape=(1, 5), dtype=float64, numpy=array([[0., 4., 6., 0., 0.]])>"
      ]
     },
     "execution_count": 81,
     "metadata": {},
     "output_type": "execute_result"
    }
   ],
   "source": [
    "model(a,  training=True)"
   ]
  },
  {
   "cell_type": "code",
   "execution_count": 103,
   "metadata": {},
   "outputs": [],
   "source": [
    "norm1 = keras.layers.BatchNormalization()\n",
    "norm2 = keras.layers.BatchNormalization()"
   ]
  },
  {
   "cell_type": "code",
   "execution_count": 104,
   "metadata": {},
   "outputs": [
    {
     "data": {
      "text/plain": [
       "(<tf.Tensor: id=1481, shape=(2, 5), dtype=float64, numpy=\n",
       " array([[-0.99987502, -0.99950037,  0.        ,  0.99950037,  0.99987502],\n",
       "        [ 0.99987502,  0.99950037,  0.        , -0.99950037, -0.99987502]])>,\n",
       " <tf.Tensor: id=1546, shape=(2, 5), dtype=float64, numpy=\n",
       " array([[-0.99987502, -0.99950037,  0.        ,  0.99950037,  0.99987502],\n",
       "        [ 0.99987502,  0.99950037,  0.        , -0.99950037, -0.99987502]])>)"
      ]
     },
     "execution_count": 104,
     "metadata": {},
     "output_type": "execute_result"
    }
   ],
   "source": [
    "norm1(a, training=True), norm2(a, training=True)"
   ]
  },
  {
   "cell_type": "code",
   "execution_count": 105,
   "metadata": {},
   "outputs": [
    {
     "data": {
      "text/plain": [
       "<tf.Tensor: id=1561, shape=(2, 5), dtype=float64, numpy=\n",
       "array([[0.95530577, 1.96901574, 2.9834559 , 3.96801649, 4.89471102],\n",
       "       [4.89471102, 3.96801649, 2.9834559 , 1.96901574, 0.95530577]])>"
      ]
     },
     "execution_count": 105,
     "metadata": {},
     "output_type": "execute_result"
    }
   ],
   "source": [
    "norm1(a, training=False)"
   ]
  },
  {
   "cell_type": "code",
   "execution_count": 106,
   "metadata": {},
   "outputs": [
    {
     "data": {
      "text/plain": [
       "<tf.Tensor: id=1575, shape=(2, 5), dtype=float64, numpy=\n",
       "array([[0.95530577, 1.96901574, 2.9834559 , 3.96801649, 4.89471102],\n",
       "       [4.89471102, 3.96801649, 2.9834559 , 1.96901574, 0.95530577]])>"
      ]
     },
     "execution_count": 106,
     "metadata": {},
     "output_type": "execute_result"
    }
   ],
   "source": [
    "norm2(a, training=False)"
   ]
  },
  {
   "cell_type": "code",
   "execution_count": 112,
   "metadata": {},
   "outputs": [],
   "source": [
    "import sys\n",
    "sys.path.append('../')\n",
    "\n",
    "from layers.noisy_bn import NoisyBatchNormalization\n",
    "%load_ext autoreload\n",
    "%autoreload 2"
   ]
  },
  {
   "cell_type": "code",
   "execution_count": 135,
   "metadata": {},
   "outputs": [],
   "source": [
    "noisy_batch = NoisyBatchNormalization(alpha=0.0)"
   ]
  },
  {
   "cell_type": "code",
   "execution_count": 136,
   "metadata": {},
   "outputs": [
    {
     "name": "stdout",
     "output_type": "stream",
     "text": [
      "mean, var tf.Tensor([3. 3. 3. 3. 3.], shape=(5,), dtype=float64) tf.Tensor([4. 1. 0. 1. 4.], shape=(5,), dtype=float64)\n",
      "tf.Tensor(\n",
      "[[-0.99987502 -0.99950037  0.          0.99950037  0.99987502]\n",
      " [ 0.99987502  0.99950037  0.         -0.99950037 -0.99987502]], shape=(2, 5), dtype=float64) tf.Tensor(\n",
      "[[-0.  0. -0. -0. -0.]\n",
      " [ 0. -0.  0.  0. -0.]], shape=(2, 5), dtype=float64) tf.Tensor([[3. 3. 3. 3. 3.]], shape=(1, 5), dtype=float64) tf.Tensor([[4. 1. 0. 1. 4.]], shape=(1, 5), dtype=float64)\n"
     ]
    },
    {
     "data": {
      "text/plain": [
       "<tf.Tensor: id=2234, shape=(2, 5), dtype=float64, numpy=\n",
       "array([[-0.99987502, -0.99950037,  0.        ,  0.99950037,  0.99987502],\n",
       "       [ 0.99987502,  0.99950037,  0.        , -0.99950037, -0.99987502]])>"
      ]
     },
     "execution_count": 136,
     "metadata": {},
     "output_type": "execute_result"
    }
   ],
   "source": [
    "noisy_batch(a, training=True)"
   ]
  },
  {
   "cell_type": "code",
   "execution_count": null,
   "metadata": {},
   "outputs": [],
   "source": [
    "noisy_batch(a, train_)"
   ]
  }
 ],
 "metadata": {
  "kernelspec": {
   "display_name": "Python [conda env:chatbot]",
   "language": "python",
   "name": "conda-env-chatbot-py"
  },
  "language_info": {
   "codemirror_mode": {
    "name": "ipython",
    "version": 3
   },
   "file_extension": ".py",
   "mimetype": "text/x-python",
   "name": "python",
   "nbconvert_exporter": "python",
   "pygments_lexer": "ipython3",
   "version": "3.5.3"
  }
 },
 "nbformat": 4,
 "nbformat_minor": 2
}
