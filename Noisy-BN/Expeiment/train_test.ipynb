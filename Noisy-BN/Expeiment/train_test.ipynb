{
 "cells": [
  {
   "cell_type": "code",
   "execution_count": 1,
   "metadata": {},
   "outputs": [],
   "source": [
    "import tensorflow as tf\n",
    "import tensorflow.keras as keras\n",
    "import numpy as np\n",
    "\n",
    "from tensorflow.python.keras.utils import tf_utils\n",
    "\n",
    "import sys\n",
    "sys.path.append('../')\n",
    "\n",
    "from layers.noisy_bn import NoisyBatchNormalization\n",
    "%load_ext autoreload\n",
    "%autoreload 2"
   ]
  },
  {
   "cell_type": "code",
   "execution_count": 88,
   "metadata": {},
   "outputs": [],
   "source": [
    "class TestLayer(keras.layers.Layer):\n",
    "        \n",
    "    def call(self, inputs, training=None):\n",
    "        if training is None:\n",
    "            training = keras.backend.learning_phase()\n",
    "        \n",
    "        train_fn = lambda: tf.zeros(tf.shape(inputs))\n",
    "        eval_fn = lambda: tf.ones(tf.shape(inputs))\n",
    "            \n",
    "        return tf_utils.smart_cond(training, train_fn, eval_fn)"
   ]
  },
  {
   "cell_type": "code",
   "execution_count": 67,
   "metadata": {},
   "outputs": [
    {
     "data": {
      "text/plain": [
       "0"
      ]
     },
     "execution_count": 67,
     "metadata": {},
     "output_type": "execute_result"
    }
   ],
   "source": [
    "keras.backend.learning_phase()"
   ]
  },
  {
   "cell_type": "code",
   "execution_count": 89,
   "metadata": {},
   "outputs": [],
   "source": [
    "class MyModel(keras.Model):\n",
    "    def __init__(self):\n",
    "        super(MyModel, self).__init__()\n",
    "        self.layer = TestLayer()\n",
    "        \n",
    "    def call(self, inputs, training=None):\n",
    "        return self.layer(inputs, training)"
   ]
  },
  {
   "cell_type": "code",
   "execution_count": 90,
   "metadata": {},
   "outputs": [],
   "source": [
    "model = MyModel()"
   ]
  },
  {
   "cell_type": "code",
   "execution_count": 91,
   "metadata": {},
   "outputs": [],
   "source": [
    "X = np.random.rand(97,100)\n",
    "y = np.ones((97,100))"
   ]
  },
  {
   "cell_type": "code",
   "execution_count": 94,
   "metadata": {},
   "outputs": [
    {
     "data": {
      "text/plain": [
       "<tf.Tensor: id=878, shape=(97, 100), dtype=float32, numpy=\n",
       "array([[1., 1., 1., ..., 1., 1., 1.],\n",
       "       [1., 1., 1., ..., 1., 1., 1.],\n",
       "       [1., 1., 1., ..., 1., 1., 1.],\n",
       "       ...,\n",
       "       [1., 1., 1., ..., 1., 1., 1.],\n",
       "       [1., 1., 1., ..., 1., 1., 1.],\n",
       "       [1., 1., 1., ..., 1., 1., 1.]], dtype=float32)>"
      ]
     },
     "execution_count": 94,
     "metadata": {},
     "output_type": "execute_result"
    }
   ],
   "source": [
    "model(X, False)"
   ]
  },
  {
   "cell_type": "code",
   "execution_count": 95,
   "metadata": {},
   "outputs": [],
   "source": [
    "model.compile(optimizer='adam',loss='mse')"
   ]
  },
  {
   "cell_type": "code",
   "execution_count": 96,
   "metadata": {},
   "outputs": [
    {
     "name": "stdout",
     "output_type": "stream",
     "text": [
      "Epoch 1/5\n",
      "97/97 [==============================] - 0s 740us/sample - loss: 1.0000\n",
      "Epoch 2/5\n",
      "97/97 [==============================] - 0s 72us/sample - loss: 1.0000\n",
      "Epoch 3/5\n",
      "97/97 [==============================] - 0s 113us/sample - loss: 1.0000\n",
      "Epoch 4/5\n",
      "97/97 [==============================] - 0s 72us/sample - loss: 1.0000\n",
      "Epoch 5/5\n",
      "97/97 [==============================] - 0s 82us/sample - loss: 1.0000\n"
     ]
    },
    {
     "data": {
      "text/plain": [
       "<tensorflow.python.keras.callbacks.History at 0x211867eac50>"
      ]
     },
     "execution_count": 96,
     "metadata": {},
     "output_type": "execute_result"
    }
   ],
   "source": [
    "model.fit(x=X, y=y, epochs=5)"
   ]
  },
  {
   "cell_type": "code",
   "execution_count": 97,
   "metadata": {},
   "outputs": [
    {
     "data": {
      "text/plain": [
       "array([[1., 1., 1., ..., 1., 1., 1.],\n",
       "       [1., 1., 1., ..., 1., 1., 1.],\n",
       "       [1., 1., 1., ..., 1., 1., 1.],\n",
       "       ...,\n",
       "       [1., 1., 1., ..., 1., 1., 1.],\n",
       "       [1., 1., 1., ..., 1., 1., 1.],\n",
       "       [1., 1., 1., ..., 1., 1., 1.]], dtype=float32)"
      ]
     },
     "execution_count": 97,
     "metadata": {},
     "output_type": "execute_result"
    }
   ],
   "source": [
    "model.predict(X)"
   ]
  },
  {
   "cell_type": "code",
   "execution_count": 9,
   "metadata": {},
   "outputs": [],
   "source": [
    "a = np.array([[1.,2.,3.,4.,5.], [5.,4.,3.,2.,1.]], dtype=np.float32)\n",
    "b = np.random.rand(2,2,2,2).astype(np.float32)\n",
    "norm1 = keras.layers.BatchNormalization()\n",
    "norm2 = keras.layers.BatchNormalization()"
   ]
  },
  {
   "cell_type": "code",
   "execution_count": 15,
   "metadata": {},
   "outputs": [],
   "source": [
    "for x in range(1000):\n",
    "    _ = norm1(a, training=True)\n",
    "    _ = norm2(a, training=True)"
   ]
  },
  {
   "cell_type": "code",
   "execution_count": 16,
   "metadata": {},
   "outputs": [
    {
     "data": {
      "text/plain": [
       "(<tf.Tensor: id=54513, shape=(2, 5), dtype=float32, numpy=\n",
       " array([[-0.9998265 , -0.99937093,  0.00400543,  0.99962974,  0.9999559 ],\n",
       "        [ 0.9999559 ,  0.99962974,  0.00400543, -0.99937093, -0.9998265 ]],\n",
       "       dtype=float32)>,\n",
       " <tf.Tensor: id=54526, shape=(2, 5), dtype=float32, numpy=\n",
       " array([[-0.9998265 , -0.99937093,  0.00400543,  0.99962974,  0.9999559 ],\n",
       "        [ 0.9999559 ,  0.99962974,  0.00400543, -0.99937093, -0.9998265 ]],\n",
       "       dtype=float32)>)"
      ]
     },
     "execution_count": 16,
     "metadata": {},
     "output_type": "execute_result"
    }
   ],
   "source": [
    "norm1(a, training=False), norm2(a, training=False)"
   ]
  },
  {
   "cell_type": "code",
   "execution_count": 10,
   "metadata": {},
   "outputs": [],
   "source": [
    "noisy_batch = NoisyBatchNormalization(alpha=0.0)"
   ]
  },
  {
   "cell_type": "code",
   "execution_count": null,
   "metadata": {},
   "outputs": [],
   "source": [
    "for _ in range(1000):\n",
    "    noisy_batch(a, training=True)"
   ]
  },
  {
   "cell_type": "code",
   "execution_count": 19,
   "metadata": {},
   "outputs": [
    {
     "name": "stdout",
     "output_type": "stream",
     "text": [
      "tf.Tensor(\n",
      "[[1. 2. 3. 4. 5.]\n",
      " [5. 4. 3. 2. 1.]], shape=(2, 5), dtype=float32) tf.Tensor([[2.9998705 2.9998705 2.9998705 2.9998705 2.9998705]], shape=(1, 5), dtype=float32) tf.Tensor([[3.9998705e+00 1.0000000e+00 4.3171676e-05 1.0000000e+00 3.9998705e+00]], shape=(1, 5), dtype=float32) 0.001\n"
     ]
    },
    {
     "data": {
      "text/plain": [
       "<tf.Tensor: id=102590, shape=(2, 5), dtype=float32, numpy=\n",
       "array([[-0.99982643, -0.999371  ,  0.00400832,  0.9996298 ,  0.9999559 ],\n",
       "       [ 0.9999559 ,  0.9996298 ,  0.00400832, -0.999371  , -0.99982643]],\n",
       "      dtype=float32)>"
      ]
     },
     "execution_count": 19,
     "metadata": {},
     "output_type": "execute_result"
    }
   ],
   "source": [
    "noisy_batch(a, training=False)"
   ]
  },
  {
   "cell_type": "code",
   "execution_count": 11,
   "metadata": {},
   "outputs": [
    {
     "data": {
      "text/plain": [
       "(<tf.Tensor: id=341, shape=(2, 2, 2, 2), dtype=float32, numpy=\n",
       " array([[[[-0.73704046, -0.18121241],\n",
       "          [ 1.2484467 ,  0.9654737 ]],\n",
       " \n",
       "         [[-0.8000138 ,  1.3377585 ],\n",
       "          [ 1.0506831 ,  0.6130806 ]]],\n",
       " \n",
       " \n",
       "        [[[-0.95196944, -1.6271454 ],\n",
       "          [-1.1226288 ,  0.39589506]],\n",
       " \n",
       "         [[-0.06086094, -1.3944387 ],\n",
       "          [ 1.3733833 , -0.10941248]]]], dtype=float32)>,\n",
       " <tf.Tensor: id=398, shape=(2, 2, 2, 2), dtype=float32, numpy=\n",
       " array([[[[-0.73704046, -0.18121241],\n",
       "          [ 1.2484467 ,  0.9654737 ]],\n",
       " \n",
       "         [[-0.8000138 ,  1.3377585 ],\n",
       "          [ 1.0506831 ,  0.6130806 ]]],\n",
       " \n",
       " \n",
       "        [[[-0.95196944, -1.6271454 ],\n",
       "          [-1.1226288 ,  0.39589506]],\n",
       " \n",
       "         [[-0.06086094, -1.3944387 ],\n",
       "          [ 1.3733833 , -0.10941248]]]], dtype=float32)>)"
      ]
     },
     "execution_count": 11,
     "metadata": {},
     "output_type": "execute_result"
    }
   ],
   "source": [
    "norm1(b, training=True), norm2(b, training=True)"
   ]
  },
  {
   "cell_type": "code",
   "execution_count": 24,
   "metadata": {},
   "outputs": [
    {
     "data": {
      "text/plain": [
       "<tf.Tensor: id=886, shape=(2, 2, 2, 2), dtype=float32, numpy=\n",
       "array([[[[-0.73704046, -0.18121223],\n",
       "         [ 1.2484468 ,  0.9654739 ]],\n",
       "\n",
       "        [[-0.8000138 ,  1.3377587 ],\n",
       "         [ 1.0506833 ,  0.6130808 ]]],\n",
       "\n",
       "\n",
       "       [[[-0.95196944, -1.627145  ],\n",
       "         [-1.1226288 ,  0.3958952 ]],\n",
       "\n",
       "        [[-0.06086089, -1.3944385 ],\n",
       "         [ 1.3733834 , -0.10941231]]]], dtype=float32)>"
      ]
     },
     "execution_count": 24,
     "metadata": {},
     "output_type": "execute_result"
    }
   ],
   "source": [
    "noisy_batch(b, training=True)"
   ]
  },
  {
   "cell_type": "code",
   "execution_count": 35,
   "metadata": {},
   "outputs": [],
   "source": [
    "def batchnorm_forward(X):\n",
    "    mu = np.mean(X, axis=(0,1,2))\n",
    "    var = np.var(X, axis=(0,1,2))\n",
    "\n",
    "    X_norm = (X - mu) / np.sqrt(var + 0.001)\n",
    "    out = 1 * X_norm \n",
    "\n",
    "    return out"
   ]
  },
  {
   "cell_type": "code",
   "execution_count": 37,
   "metadata": {},
   "outputs": [
    {
     "data": {
      "text/plain": [
       "array([[[[-0.73704042, -0.18121228],\n",
       "         [ 1.24844679,  0.9654738 ]],\n",
       "\n",
       "        [[-0.80001376,  1.33775863],\n",
       "         [ 1.05068317,  0.61308071]]],\n",
       "\n",
       "\n",
       "       [[[-0.9519694 , -1.62714515],\n",
       "         [-1.12262878,  0.39589516]],\n",
       "\n",
       "        [[-0.06086089, -1.39443851],\n",
       "         [ 1.3733833 , -0.10941236]]]])"
      ]
     },
     "execution_count": 37,
     "metadata": {},
     "output_type": "execute_result"
    }
   ],
   "source": [
    "batchnorm_forward(b.astype(np.float64))"
   ]
  },
  {
   "cell_type": "code",
   "execution_count": 11,
   "metadata": {},
   "outputs": [
    {
     "data": {
      "text/plain": [
       "(<tf.Tensor: id=290, shape=(2, 2, 2, 2), dtype=float32, numpy=\n",
       " array([[[[0.34406313, 0.04382638],\n",
       "          [0.40071642, 0.7218602 ]],\n",
       " \n",
       "         [[0.11433753, 0.40438968],\n",
       "          [0.8774112 , 0.38251224]]],\n",
       " \n",
       " \n",
       "        [[[0.754469  , 0.10119688],\n",
       "          [0.15986466, 0.4807517 ]],\n",
       " \n",
       "         [[0.57328904, 0.40044674],\n",
       "          [0.9360982 , 0.5159821 ]]]], dtype=float32)>,\n",
       " <tf.Tensor: id=301, shape=(2, 2, 2, 2), dtype=float32, numpy=\n",
       " array([[[[0.34406313, 0.04382638],\n",
       "          [0.40071642, 0.7218602 ]],\n",
       " \n",
       "         [[0.11433753, 0.40438968],\n",
       "          [0.8774112 , 0.38251224]]],\n",
       " \n",
       " \n",
       "        [[[0.754469  , 0.10119688],\n",
       "          [0.15986466, 0.4807517 ]],\n",
       " \n",
       "         [[0.57328904, 0.40044674],\n",
       "          [0.9360982 , 0.5159821 ]]]], dtype=float32)>)"
      ]
     },
     "execution_count": 11,
     "metadata": {},
     "output_type": "execute_result"
    }
   ],
   "source": [
    "norm1(b, training=False), norm2(b, training=False)"
   ]
  },
  {
   "cell_type": "code",
   "execution_count": 15,
   "metadata": {},
   "outputs": [
    {
     "data": {
      "text/plain": [
       "(<tf.Variable 'batch_normalization_v2_2/moving_mean:0' shape=(2,) dtype=float32, numpy=array([0.00523175, 0.00383578], dtype=float32)>,\n",
       " <tf.Variable 'batch_normalization_v2_2/moving_variance:0' shape=(2,) dtype=float32, numpy=array([0.9909894, 0.9904777], dtype=float32)>)"
      ]
     },
     "execution_count": 15,
     "metadata": {},
     "output_type": "execute_result"
    }
   ],
   "source": [
    "norm1.moving_mean, norm1.moving_variance"
   ]
  },
  {
   "cell_type": "code",
   "execution_count": 16,
   "metadata": {},
   "outputs": [
    {
     "data": {
      "text/plain": [
       "(<tf.Variable 'noisy_batch_normalization_1/moving_mean:0' shape=(2,) dtype=float32, numpy=array([0.00523176, 0.00383578], dtype=float32)>,\n",
       " <tf.Variable 'noisy_batch_normalization_1/moving_variance:0' shape=(2,) dtype=float32, numpy=array([0.9908657, 0.990418 ], dtype=float32)>)"
      ]
     },
     "execution_count": 16,
     "metadata": {},
     "output_type": "execute_result"
    }
   ],
   "source": [
    "noisy_batch.moving_mean, noisy_batch.moving_variance"
   ]
  },
  {
   "cell_type": "code",
   "execution_count": 12,
   "metadata": {},
   "outputs": [
    {
     "name": "stdout",
     "output_type": "stream",
     "text": [
      "[0, 1, 2]\n"
     ]
    },
    {
     "data": {
      "text/plain": [
       "<tf.Tensor: id=330, shape=(2, 2, 2, 2), dtype=float32, numpy=\n",
       "array([[[[0.34408453, 0.04382769],\n",
       "         [0.40074137, 0.72188187]],\n",
       "\n",
       "        [[0.11434464, 0.4044018 ],\n",
       "         [0.87746584, 0.38252372]]],\n",
       "\n",
       "\n",
       "       [[[0.75451595, 0.1011999 ],\n",
       "         [0.15987462, 0.48076612]],\n",
       "\n",
       "        [[0.57332474, 0.40045875],\n",
       "         [0.9361565 , 0.5159976 ]]]], dtype=float32)>"
      ]
     },
     "execution_count": 12,
     "metadata": {},
     "output_type": "execute_result"
    }
   ],
   "source": [
    "noisy_batch(b, training=False)"
   ]
  },
  {
   "cell_type": "code",
   "execution_count": 28,
   "metadata": {},
   "outputs": [
    {
     "data": {
      "text/plain": [
       "(<tf.Variable 'noisy_batch_normalization_1/gamma:0' shape=(2,) dtype=float32, numpy=array([1., 1.], dtype=float32)>,\n",
       " <tf.Variable 'noisy_batch_normalization_1/beta:0' shape=(2,) dtype=float32, numpy=array([0., 0.], dtype=float32)>)"
      ]
     },
     "execution_count": 28,
     "metadata": {},
     "output_type": "execute_result"
    }
   ],
   "source": [
    "noisy_batch.gamma, noisy_batch.beta"
   ]
  },
  {
   "cell_type": "code",
   "execution_count": null,
   "metadata": {},
   "outputs": [],
   "source": [
    "for x in range(1000):\n",
    "    _ = norm1(b, training=True)\n",
    "    _ = norm2(b, training=True)"
   ]
  },
  {
   "cell_type": "code",
   "execution_count": null,
   "metadata": {},
   "outputs": [],
   "source": [
    "for _ in range(1000):\n",
    "    noisy_batch(b, training=True)"
   ]
  },
  {
   "cell_type": "code",
   "execution_count": null,
   "metadata": {},
   "outputs": [],
   "source": [
    "noisy_batch(b, b)"
   ]
  }
 ],
 "metadata": {
  "kernelspec": {
   "display_name": "Python [conda env:chatbot]",
   "language": "python",
   "name": "conda-env-chatbot-py"
  },
  "language_info": {
   "codemirror_mode": {
    "name": "ipython",
    "version": 3
   },
   "file_extension": ".py",
   "mimetype": "text/x-python",
   "name": "python",
   "nbconvert_exporter": "python",
   "pygments_lexer": "ipython3",
   "version": "3.5.3"
  }
 },
 "nbformat": 4,
 "nbformat_minor": 2
}
