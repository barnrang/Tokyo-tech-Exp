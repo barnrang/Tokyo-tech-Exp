{
 "cells": [
  {
   "cell_type": "markdown",
   "metadata": {},
   "source": [
    "# PUBG population simulation\n",
    "Let's assume \n",
    "\n",
    "N - Population\n",
    "\n",
    "$\\rho$ - density or #people / area\n",
    "\n",
    "$\\alpha$ - Killing Coefficient\n",
    "$$\\frac{dN}{dt}=-\\alpha\\rho N(t)$$\n",
    "\n",
    "This equation is based on 2 facts\n",
    "* With the same #people, more density make people meet each other easily and start killing\n",
    "* With the same density, number of killing proportional to the #people\n",
    "    \n",
    "The equation can be rewrote as \n",
    "$$\\frac{dN}{dt}=-\\alpha\\frac{N(t)}{A(t)} N(t)=-\\alpha\\frac{N(t)^2}{A(t)}$$\n",
    "which solve easily by integrate from $t=0$ to $t=t_n$\n",
    "$$\\int_{0}^{N(t_n)}-\\frac{1}{\\alpha N^2}dN=\\int_{0}^{t_n}\\frac{1}{A(t)}dt$$\n",
    "$$(\\Rightarrow) \\ N(t_n)=\\frac{1}{\\alpha\\phi(t_n)+1/N(0)}$$\n",
    "which $\\phi(t_n)=\\int_{0}^{t_n}\\frac{1}{A(t)}dt$\n",
    "\n",
    "In the later part, we will observe more about $\\alpha$ value and find its relationship"
   ]
  },
  {
   "cell_type": "code",
   "execution_count": 1,
   "metadata": {},
   "outputs": [],
   "source": [
    "import numpy as np\n",
    "import matplotlib.pyplot as plt\n",
    "from itertools import compress\n",
    "from Actor import PlayerActor\n",
    "\n",
    "from scipy.optimize import curve_fit\n",
    "\n",
    "%matplotlib inline\n",
    "%load_ext autoreload\n",
    "%autoreload 2"
   ]
  },
  {
   "cell_type": "markdown",
   "metadata": {},
   "source": [
    "# Let's draw the Area graph"
   ]
  },
  {
   "cell_type": "code",
   "execution_count": 2,
   "metadata": {
    "scrolled": true
   },
   "outputs": [
    {
     "data": {
      "text/plain": [
       "[<matplotlib.lines.Line2D at 0x1517e4acf8>]"
      ]
     },
     "execution_count": 2,
     "metadata": {},
     "output_type": "execute_result"
    },
    {
     "data": {
      "image/png": "[encoded data removed]",
      "text/plain": [
       "<Figure size 432x288 with 1 Axes>"
      ]
     },
     "metadata": {},
     "output_type": "display_data"
    }
   ],
   "source": [
    "TIMES_PER_STEP = 50\n",
    "DROPPING_TIME = 10\n",
    "def Area(t):\n",
    "    step = t // TIMES_PER_STEP\n",
    "    current_area = (0.8) ** step * 25 * np.pi\n",
    "    remainder = t % TIMES_PER_STEP\n",
    "    if remainder > (TIMES_PER_STEP - DROPPING_TIME):\n",
    "        next_area = (0.8) ** (step + 1) * 25 * np.pi\n",
    "        return current_area + (next_area - current_area) * (remainder - (TIMES_PER_STEP - DROPPING_TIME)) / DROPPING_TIME\n",
    "        \n",
    "    return current_area\n",
    "\n",
    "areas = np.array([Area(t) for t in range(301)])\n",
    "plt.plot(areas)"
   ]
  },
  {
   "cell_type": "code",
   "execution_count": 3,
   "metadata": {},
   "outputs": [
    {
     "data": {
      "text/plain": [
       "[<matplotlib.lines.Line2D at 0x1517f9b400>]"
      ]
     },
     "execution_count": 3,
     "metadata": {},
     "output_type": "execute_result"
    },
    {
     "data": {
      "image/png": "[encoded data removed]",
      "text/plain": [
       "<Figure size 432x288 with 1 Axes>"
      ]
     },
     "metadata": {},
     "output_type": "display_data"
    }
   ],
   "source": [
    "def phi(t):\n",
    "    if type(t) is np.ndarray:\n",
    "        out = []\n",
    "        for i in t:\n",
    "            out.append(np.sum(1/areas[:int(i)]))\n",
    "        return np.array(out)\n",
    "            \n",
    "    return np.sum(1/areas[:int(t)])\n",
    "\n",
    "phiss = [phi(i) for i in range(301)]\n",
    "plt.plot(phiss)"
   ]
  },
  {
   "cell_type": "code",
   "execution_count": 5,
   "metadata": {},
   "outputs": [
    {
     "data": {
      "text/plain": [
       "[<matplotlib.lines.Line2D at 0x15180770b8>]"
      ]
     },
     "execution_count": 5,
     "metadata": {},
     "output_type": "execute_result"
    },
    {
     "data": {
      "image/png": "[encoded data removed]",
      "text/plain": [
       "<Figure size 432x288 with 1 Axes>"
      ]
     },
     "metadata": {},
     "output_type": "display_data"
    }
   ],
   "source": [
    "alpha = 0.08\n",
    "def N(t):\n",
    "    return 1 / (alpha * phi(t) + 1 / 100)\n",
    "\n",
    "plt.plot([N(t) for t in range(301)])"
   ]
  },
  {
   "cell_type": "code",
   "execution_count": 21,
   "metadata": {},
   "outputs": [],
   "source": [
    "ACTOR_NUM = 100\n",
    "ADVANTAGE_NUM = 40\n",
    "\n",
    "SQ_FIELD_WIDTH = 10\n",
    "R_RESTRICT = 5\n",
    "\n",
    "KILLING_DISTANCE = 0.1\n",
    "\n",
    "actor_list = [PlayerActor(SQ_FIELD_WIDTH, ADVANTAGE_NUM, i) for i in range(ACTOR_NUM)]\n",
    "advantage_points = np.random.uniform(-SQ_FIELD_WIDTH/2, SQ_FIELD_WIDTH/2, size=(ADVANTAGE_NUM, 2))\n",
    "advantage_points[-1] = [0,0] # Let's make it center\n",
    "advantage_points_met = [False for _ in range(ADVANTAGE_NUM)]\n",
    "counter = 0\n",
    "survive_num = []\n",
    "\n",
    "def massecre():\n",
    "    global actor_list, killing_list\n",
    "    positions = np.array(list(map(lambda x: x.pos, actor_list)))\n",
    "    index_random = np.random.permutation(len(actor_list))\n",
    "    alive = [True for _ in range(len(actor_list))]\n",
    "    for i in index_random:\n",
    "        if not alive[i]:\n",
    "            continue\n",
    "        for j in index_random:\n",
    "            if not alive[j] or i == j:\n",
    "                continue\n",
    "            if np.linalg.norm(positions[i] - positions[j]) < KILLING_DISTANCE:\n",
    "                sum_power = actor_list[i].power + actor_list[j].power\n",
    "                to_live, to_die = np.random.choice([i,j], size=2, replace=False, \\\n",
    "                    p=[float(actor_list[i].power)/sum_power, float(actor_list[j].power)/sum_power])\n",
    "                actor_list[to_live].power = max(actor_list[to_live].power - 30, 50)\n",
    "                alive[to_die] = False\n",
    "                actor_list[to_live].kill += 1\n",
    "\n",
    "    actor_list = list(compress(actor_list, alive))\n",
    "\n",
    "    \n",
    "\n",
    "\n",
    "def render():\n",
    "    global R_RESTRICT, counter, actor_list, survive_num, advantage_points_met\n",
    "    \n",
    "    R_RESTRICT = np.sqrt(Area(t) / np.pi)\n",
    "\n",
    "    for i in np.random.permutation(len(actor_list)):\n",
    "        actor_list[i].move(R_RESTRICT, advantage_points)\n",
    "        actor_list[i].check_advantage_point(advantage_points, advantage_points_met)\n",
    "    counter += 1\n",
    "\n",
    "    massecre()\n",
    "\n",
    "    return len(actor_list)"
   ]
  },
  {
   "cell_type": "code",
   "execution_count": 22,
   "metadata": {},
   "outputs": [],
   "source": [
    "counter = 0\n",
    "no_people = []\n",
    "for i in range(300):\n",
    "    no_people.append(render())\n",
    "    \n",
    "no_people = np.array(no_people)"
   ]
  },
  {
   "cell_type": "code",
   "execution_count": 23,
   "metadata": {
    "scrolled": false
   },
   "outputs": [
    {
     "data": {
      "text/plain": [
       "[<matplotlib.lines.Line2D at 0x1523d387b8>]"
      ]
     },
     "execution_count": 23,
     "metadata": {},
     "output_type": "execute_result"
    },
    {
     "data": {
      "image/png": "[encoded data removed]",
      "text/plain": [
       "<Figure size 432x288 with 1 Axes>"
      ]
     },
     "metadata": {},
     "output_type": "display_data"
    }
   ],
   "source": [
    "plt.xlim(0,300)\n",
    "plt.ylim(0,100)\n",
    "plt.plot(no_people)"
   ]
  },
  {
   "cell_type": "markdown",
   "metadata": {},
   "source": [
    "# Fit the curve\n",
    "Levenberg–Marquardt algorithm"
   ]
  },
  {
   "cell_type": "code",
   "execution_count": 17,
   "metadata": {},
   "outputs": [],
   "source": [
    "def N_fit(t, alpha):\n",
    "    value = 1 / (alpha * phi(t) + 1 / 100)\n",
    "    return value"
   ]
  },
  {
   "cell_type": "code",
   "execution_count": 24,
   "metadata": {},
   "outputs": [],
   "source": [
    "opt, _ = curve_fit(N_fit, np.arange(300), no_people, p0=(0.05))"
   ]
  },
  {
   "cell_type": "code",
   "execution_count": 25,
   "metadata": {
    "scrolled": true
   },
   "outputs": [
    {
     "data": {
      "text/plain": [
       "[<matplotlib.lines.Line2D at 0x1523dd07f0>]"
      ]
     },
     "execution_count": 25,
     "metadata": {},
     "output_type": "execute_result"
    },
    {
     "data": {
      "image/png": "[encoded data removed]",
      "text/plain": [
       "<Figure size 432x288 with 1 Axes>"
      ]
     },
     "metadata": {},
     "output_type": "display_data"
    }
   ],
   "source": [
    "plt.xlim(0,300)\n",
    "plt.ylim(0,100)\n",
    "plt.plot(N_fit(np.arange(300), *opt))\n",
    "# plt.scatter(np.arange(1,301)[sampling_point], no_people[sampling_point + 1])\n",
    "plt.plot(no_people)"
   ]
  },
  {
   "cell_type": "code",
   "execution_count": 26,
   "metadata": {},
   "outputs": [
    {
     "data": {
      "text/plain": [
       "array([0.02105974])"
      ]
     },
     "execution_count": 26,
     "metadata": {},
     "output_type": "execute_result"
    }
   ],
   "source": [
    "opt"
   ]
  },
  {
   "cell_type": "code",
   "execution_count": null,
   "metadata": {},
   "outputs": [],
   "source": []
  }
 ],
 "metadata": {
  "kernelspec": {
   "display_name": "Python 3",
   "language": "python",
   "name": "python3"
  },
  "language_info": {
   "codemirror_mode": {
    "name": "ipython",
    "version": 3
   },
   "file_extension": ".py",
   "mimetype": "text/x-python",
   "name": "python",
   "nbconvert_exporter": "python",
   "pygments_lexer": "ipython3",
   "version": "3.6.6"
  }
 },
 "nbformat": 4,
 "nbformat_minor": 2
}
